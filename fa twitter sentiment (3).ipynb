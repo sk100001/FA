{
 "cells": [
  {
   "cell_type": "code",
   "execution_count": 1,
   "id": "b253d196",
   "metadata": {},
   "outputs": [],
   "source": [
    "import numpy as np\n",
    "import pandas as pd\n",
    "import time \n",
    "import re\n",
    "\n",
    "from nltk.corpus import stopwords\n",
    "from nltk.tokenize import sent_tokenize, word_tokenize, TweetTokenizer\n",
    "english_stop_words = stopwords.words('english')\n",
    "from sklearn.feature_extraction.text import CountVectorizer\n",
    "from sklearn.feature_extraction.text import TfidfVectorizer\n",
    "\n",
    "from nltk.stem.porter import PorterStemmer\n",
    "from nltk.stem import WordNetLemmatizer\n",
    "\n",
    "\n",
    "#preprocessing\n",
    "from sklearn.model_selection import train_test_split\n",
    "from sklearn.preprocessing import LabelEncoder\n",
    "\n",
    "# machine learning\n",
    "\n",
    "from sklearn.naive_bayes import GaussianNB\n",
    "from sklearn.naive_bayes import MultinomialNB\n",
    "from sklearn.tree import DecisionTreeClassifier\n",
    "from sklearn.ensemble import RandomForestClassifier\n",
    "from sklearn.linear_model import LogisticRegression\n",
    "from sklearn.svm import LinearSVC\n",
    "from tensorflow.keras.utils import to_categorical\n",
    "\n",
    "from keras.preprocessing.text import Tokenizer\n",
    "from tensorflow.keras.preprocessing.sequence import pad_sequences\n",
    "from sklearn.model_selection import train_test_split\n",
    "from keras.models import Sequential\n",
    "from keras.layers import Dense, Dropout, Embedding, LSTM, GlobalMaxPooling1D, SpatialDropout1D\n",
    "\n",
    "\n",
    "\n",
    "from sklearn.metrics import classification_report\n",
    "\n",
    "import seaborn as sns\n",
    "sns.set(style ='whitegrid')\n",
    "pd.set_option('display.max_columns',None)\n",
    "# adding column names for the csv file which wi"
   ]
  },
  {
   "cell_type": "code",
   "execution_count": 2,
   "id": "9ff4b395",
   "metadata": {},
   "outputs": [],
   "source": [
    "headers=['Tweet_ID','Entity','Sentiment','Tweet_content']\n",
    "# read data from training dataset\n",
    "t_df=pd.read_csv('D:\\\\fa project\\\\twitter_training.csv', sep=',', names=headers)\n",
    "# read data from validation dataset\n",
    "v_df=pd.read_csv('D:\\\\fa project\\\\twitter_validation.csv', sep=',', names=headers)"
   ]
  },
  {
   "cell_type": "code",
   "execution_count": 3,
   "id": "f80fb33c",
   "metadata": {},
   "outputs": [
    {
     "name": "stdout",
     "output_type": "stream",
     "text": [
      "<class 'pandas.core.frame.DataFrame'>\n",
      "RangeIndex: 74682 entries, 0 to 74681\n",
      "Data columns (total 4 columns):\n",
      " #   Column         Non-Null Count  Dtype \n",
      "---  ------         --------------  ----- \n",
      " 0   Tweet_ID       74682 non-null  int64 \n",
      " 1   Entity         74682 non-null  object\n",
      " 2   Sentiment      74682 non-null  object\n",
      " 3   Tweet_content  73996 non-null  object\n",
      "dtypes: int64(1), object(3)\n",
      "memory usage: 2.3+ MB\n"
     ]
    }
   ],
   "source": [
    "# information of the dataset\n",
    "t_df.info()"
   ]
  },
  {
   "cell_type": "code",
   "execution_count": 4,
   "id": "048c8147",
   "metadata": {},
   "outputs": [
    {
     "data": {
      "text/html": [
       "<div>\n",
       "<style scoped>\n",
       "    .dataframe tbody tr th:only-of-type {\n",
       "        vertical-align: middle;\n",
       "    }\n",
       "\n",
       "    .dataframe tbody tr th {\n",
       "        vertical-align: top;\n",
       "    }\n",
       "\n",
       "    .dataframe thead th {\n",
       "        text-align: right;\n",
       "    }\n",
       "</style>\n",
       "<table border=\"1\" class=\"dataframe\">\n",
       "  <thead>\n",
       "    <tr style=\"text-align: right;\">\n",
       "      <th></th>\n",
       "      <th>Tweet_ID</th>\n",
       "      <th>Entity</th>\n",
       "      <th>Sentiment</th>\n",
       "      <th>Tweet_content</th>\n",
       "    </tr>\n",
       "  </thead>\n",
       "  <tbody>\n",
       "    <tr>\n",
       "      <th>0</th>\n",
       "      <td>2401</td>\n",
       "      <td>Borderlands</td>\n",
       "      <td>Positive</td>\n",
       "      <td>im getting on borderlands and i will murder yo...</td>\n",
       "    </tr>\n",
       "    <tr>\n",
       "      <th>1</th>\n",
       "      <td>2401</td>\n",
       "      <td>Borderlands</td>\n",
       "      <td>Positive</td>\n",
       "      <td>I am coming to the borders and I will kill you...</td>\n",
       "    </tr>\n",
       "    <tr>\n",
       "      <th>2</th>\n",
       "      <td>2401</td>\n",
       "      <td>Borderlands</td>\n",
       "      <td>Positive</td>\n",
       "      <td>im getting on borderlands and i will kill you ...</td>\n",
       "    </tr>\n",
       "    <tr>\n",
       "      <th>3</th>\n",
       "      <td>2401</td>\n",
       "      <td>Borderlands</td>\n",
       "      <td>Positive</td>\n",
       "      <td>im coming on borderlands and i will murder you...</td>\n",
       "    </tr>\n",
       "    <tr>\n",
       "      <th>4</th>\n",
       "      <td>2401</td>\n",
       "      <td>Borderlands</td>\n",
       "      <td>Positive</td>\n",
       "      <td>im getting on borderlands 2 and i will murder ...</td>\n",
       "    </tr>\n",
       "    <tr>\n",
       "      <th>5</th>\n",
       "      <td>2401</td>\n",
       "      <td>Borderlands</td>\n",
       "      <td>Positive</td>\n",
       "      <td>im getting into borderlands and i can murder y...</td>\n",
       "    </tr>\n",
       "    <tr>\n",
       "      <th>6</th>\n",
       "      <td>2402</td>\n",
       "      <td>Borderlands</td>\n",
       "      <td>Positive</td>\n",
       "      <td>So I spent a few hours making something for fu...</td>\n",
       "    </tr>\n",
       "    <tr>\n",
       "      <th>7</th>\n",
       "      <td>2402</td>\n",
       "      <td>Borderlands</td>\n",
       "      <td>Positive</td>\n",
       "      <td>So I spent a couple of hours doing something f...</td>\n",
       "    </tr>\n",
       "    <tr>\n",
       "      <th>8</th>\n",
       "      <td>2402</td>\n",
       "      <td>Borderlands</td>\n",
       "      <td>Positive</td>\n",
       "      <td>So I spent a few hours doing something for fun...</td>\n",
       "    </tr>\n",
       "    <tr>\n",
       "      <th>9</th>\n",
       "      <td>2402</td>\n",
       "      <td>Borderlands</td>\n",
       "      <td>Positive</td>\n",
       "      <td>So I spent a few hours making something for fu...</td>\n",
       "    </tr>\n",
       "  </tbody>\n",
       "</table>\n",
       "</div>"
      ],
      "text/plain": [
       "   Tweet_ID       Entity Sentiment  \\\n",
       "0      2401  Borderlands  Positive   \n",
       "1      2401  Borderlands  Positive   \n",
       "2      2401  Borderlands  Positive   \n",
       "3      2401  Borderlands  Positive   \n",
       "4      2401  Borderlands  Positive   \n",
       "5      2401  Borderlands  Positive   \n",
       "6      2402  Borderlands  Positive   \n",
       "7      2402  Borderlands  Positive   \n",
       "8      2402  Borderlands  Positive   \n",
       "9      2402  Borderlands  Positive   \n",
       "\n",
       "                                       Tweet_content  \n",
       "0  im getting on borderlands and i will murder yo...  \n",
       "1  I am coming to the borders and I will kill you...  \n",
       "2  im getting on borderlands and i will kill you ...  \n",
       "3  im coming on borderlands and i will murder you...  \n",
       "4  im getting on borderlands 2 and i will murder ...  \n",
       "5  im getting into borderlands and i can murder y...  \n",
       "6  So I spent a few hours making something for fu...  \n",
       "7  So I spent a couple of hours doing something f...  \n",
       "8  So I spent a few hours doing something for fun...  \n",
       "9  So I spent a few hours making something for fu...  "
      ]
     },
     "execution_count": 4,
     "metadata": {},
     "output_type": "execute_result"
    }
   ],
   "source": [
    "# first 10 rows of training dataset\n",
    "t_df.head(10)"
   ]
  },
  {
   "cell_type": "code",
   "execution_count": 5,
   "id": "d3475f62",
   "metadata": {},
   "outputs": [
    {
     "data": {
      "text/html": [
       "<div>\n",
       "<style scoped>\n",
       "    .dataframe tbody tr th:only-of-type {\n",
       "        vertical-align: middle;\n",
       "    }\n",
       "\n",
       "    .dataframe tbody tr th {\n",
       "        vertical-align: top;\n",
       "    }\n",
       "\n",
       "    .dataframe thead th {\n",
       "        text-align: right;\n",
       "    }\n",
       "</style>\n",
       "<table border=\"1\" class=\"dataframe\">\n",
       "  <thead>\n",
       "    <tr style=\"text-align: right;\">\n",
       "      <th></th>\n",
       "      <th>Tweet_ID</th>\n",
       "      <th>Entity</th>\n",
       "      <th>Sentiment</th>\n",
       "      <th>Tweet_content</th>\n",
       "    </tr>\n",
       "  </thead>\n",
       "  <tbody>\n",
       "    <tr>\n",
       "      <th>0</th>\n",
       "      <td>3364</td>\n",
       "      <td>Facebook</td>\n",
       "      <td>Irrelevant</td>\n",
       "      <td>I mentioned on Facebook that I was struggling ...</td>\n",
       "    </tr>\n",
       "    <tr>\n",
       "      <th>1</th>\n",
       "      <td>352</td>\n",
       "      <td>Amazon</td>\n",
       "      <td>Neutral</td>\n",
       "      <td>BBC News - Amazon boss Jeff Bezos rejects clai...</td>\n",
       "    </tr>\n",
       "    <tr>\n",
       "      <th>2</th>\n",
       "      <td>8312</td>\n",
       "      <td>Microsoft</td>\n",
       "      <td>Negative</td>\n",
       "      <td>@Microsoft Why do I pay for WORD when it funct...</td>\n",
       "    </tr>\n",
       "    <tr>\n",
       "      <th>3</th>\n",
       "      <td>4371</td>\n",
       "      <td>CS-GO</td>\n",
       "      <td>Negative</td>\n",
       "      <td>CSGO matchmaking is so full of closet hacking,...</td>\n",
       "    </tr>\n",
       "    <tr>\n",
       "      <th>4</th>\n",
       "      <td>4433</td>\n",
       "      <td>Google</td>\n",
       "      <td>Neutral</td>\n",
       "      <td>Now the President is slapping Americans in the...</td>\n",
       "    </tr>\n",
       "  </tbody>\n",
       "</table>\n",
       "</div>"
      ],
      "text/plain": [
       "   Tweet_ID     Entity   Sentiment  \\\n",
       "0      3364   Facebook  Irrelevant   \n",
       "1       352     Amazon     Neutral   \n",
       "2      8312  Microsoft    Negative   \n",
       "3      4371      CS-GO    Negative   \n",
       "4      4433     Google     Neutral   \n",
       "\n",
       "                                       Tweet_content  \n",
       "0  I mentioned on Facebook that I was struggling ...  \n",
       "1  BBC News - Amazon boss Jeff Bezos rejects clai...  \n",
       "2  @Microsoft Why do I pay for WORD when it funct...  \n",
       "3  CSGO matchmaking is so full of closet hacking,...  \n",
       "4  Now the President is slapping Americans in the...  "
      ]
     },
     "execution_count": 5,
     "metadata": {},
     "output_type": "execute_result"
    }
   ],
   "source": [
    "# first 5 rows of validation dataset\n",
    "v_df.head(5)"
   ]
  },
  {
   "cell_type": "code",
   "execution_count": 6,
   "id": "2c667ce8",
   "metadata": {},
   "outputs": [
    {
     "data": {
      "text/plain": [
       "Tweet_ID  Entity                             Sentiment   Tweet_content                                                                                                                  \n",
       "3018      Dota2                              Positive    Wow.                                                                                                                               0.000068\n",
       "4050      CS-GO                              Positive    Wow                                                                                                                                0.000068\n",
       "10181     PlayerUnknownsBattlegrounds(PUBG)  Irrelevant  Really                                                                                                                             0.000068\n",
       "8808      Nvidia                             Positive    Wow                                                                                                                                0.000068\n",
       "6928      johnson&johnson                    Negative    \"                                                                                                                                  0.000068\n",
       "                                                                                                                                                                                              ...   \n",
       "4339      CS-GO                              Negative    @ CSGO Your \"official servers\" are a hotbed for hackers...... @ valvesoftware pls fix.                                             0.000014\n",
       "                                                         @ CSGO your \"official servers\" are a breeding ground for fraudsters...... @ valvesopls.                                            0.000014\n",
       "                                                         @CSGO your \"official servers\" are a breeding zone for hackers.. .. .. @valvesoftware pls fix.                                      0.000014\n",
       "                                                         @CSGO your \"official servers\" are a happy zone for spam.... @valvesoftware pls fix.                                                0.000014\n",
       "13200     Xbox(Xseries)                      Irrelevant  More Amazing deal I found out on ebay looked for quite a RAZER HEADSET.. See rover. net ebay. com / rover / 1 / 08 710 - 53 …..    0.000014\n",
       "Length: 71656, dtype: float64"
      ]
     },
     "execution_count": 6,
     "metadata": {},
     "output_type": "execute_result"
    }
   ],
   "source": [
    "# value count of the training dataset\n",
    "t_df.value_counts(normalize=True)"
   ]
  },
  {
   "cell_type": "code",
   "execution_count": 7,
   "id": "9e9003f1",
   "metadata": {},
   "outputs": [
    {
     "name": "stdout",
     "output_type": "stream",
     "text": [
      "<class 'pandas.core.frame.DataFrame'>\n",
      "RangeIndex: 74682 entries, 0 to 74681\n",
      "Data columns (total 4 columns):\n",
      " #   Column         Non-Null Count  Dtype \n",
      "---  ------         --------------  ----- \n",
      " 0   Tweet_ID       74682 non-null  int64 \n",
      " 1   Entity         74682 non-null  object\n",
      " 2   Sentiment      74682 non-null  object\n",
      " 3   Tweet_content  73996 non-null  object\n",
      "dtypes: int64(1), object(3)\n",
      "memory usage: 2.3+ MB\n"
     ]
    }
   ],
   "source": [
    "# information of training dataset\n",
    "t_df.info()"
   ]
  },
  {
   "cell_type": "code",
   "execution_count": 8,
   "id": "be393eb9",
   "metadata": {},
   "outputs": [
    {
     "data": {
      "text/plain": [
       "Negative      22542\n",
       "Positive      20832\n",
       "Neutral       18318\n",
       "Irrelevant    12990\n",
       "Name: Sentiment, dtype: int64"
      ]
     },
     "execution_count": 8,
     "metadata": {},
     "output_type": "execute_result"
    }
   ],
   "source": [
    "# Getting the count of 3 classes (sentiments)\n",
    "t_df['Sentiment'].value_counts()"
   ]
  },
  {
   "cell_type": "code",
   "execution_count": 9,
   "id": "862d3395",
   "metadata": {},
   "outputs": [
    {
     "data": {
      "text/plain": [
       "<AxesSubplot:xlabel='Sentiment', ylabel='count'>"
      ]
     },
     "execution_count": 9,
     "metadata": {},
     "output_type": "execute_result"
    },
    {
     "data": {
      "image/png": "[encoded data removed]",
      "text/plain": [
       "<Figure size 432x288 with 1 Axes>"
      ]
     },
     "metadata": {},
     "output_type": "display_data"
    }
   ],
   "source": [
    "# plotting countplot using seaborn package based on total count of different sentiments in training dataset\n",
    "sns.countplot(x=t_df['Sentiment'])"
   ]
  },
  {
   "cell_type": "code",
   "execution_count": 10,
   "id": "c65ea3fb",
   "metadata": {},
   "outputs": [
    {
     "data": {
      "text/plain": [
       "2700"
      ]
     },
     "execution_count": 10,
     "metadata": {},
     "output_type": "execute_result"
    }
   ],
   "source": [
    "# sum of duplicate values in training dataset\n",
    "t_df.duplicated().sum()"
   ]
  },
  {
   "cell_type": "code",
   "execution_count": 11,
   "id": "cd47a5dc",
   "metadata": {},
   "outputs": [
    {
     "data": {
      "text/plain": [
       "<AxesSubplot:ylabel='Sentiment'>"
      ]
     },
     "execution_count": 11,
     "metadata": {},
     "output_type": "execute_result"
    },
    {
     "data": {
      "image/png": "[encoded data removed]",
      "text/plain": [
       "<Figure size 360x360 with 1 Axes>"
      ]
     },
     "metadata": {},
     "output_type": "display_data"
    }
   ],
   "source": [
    "# pie chart using seaborn based on total count of different sentiments in training dataset \n",
    "t_df.Sentiment.value_counts().plot(kind='pie', autopct='%1.0f%%',figsize=(5,5),colors=[\"red\", \"yellow\", \"green\",'blue'])"
   ]
  },
  {
   "cell_type": "code",
   "execution_count": 12,
   "id": "2602f819",
   "metadata": {},
   "outputs": [
    {
     "data": {
      "text/plain": [
       "<AxesSubplot:xlabel='Entity'>"
      ]
     },
     "execution_count": 12,
     "metadata": {},
     "output_type": "execute_result"
    },
    {
     "data": {
      "image/png": "[encoded data removed]",
      "text/plain": [
       "<Figure size 1440x1440 with 1 Axes>"
      ]
     },
     "metadata": {},
     "output_type": "display_data"
    }
   ],
   "source": [
    "# entity vs sentiment relation \n",
    "Twitter_sentiment = t_df.groupby(['Entity', 'Sentiment']).Sentiment.count().unstack()\n",
    "Twitter_sentiment.plot(kind='bar',figsize=(20,20))"
   ]
  },
  {
   "cell_type": "code",
   "execution_count": 13,
   "id": "9643d8e1",
   "metadata": {},
   "outputs": [
    {
     "data": {
      "text/html": [
       "<div>\n",
       "<style scoped>\n",
       "    .dataframe tbody tr th:only-of-type {\n",
       "        vertical-align: middle;\n",
       "    }\n",
       "\n",
       "    .dataframe tbody tr th {\n",
       "        vertical-align: top;\n",
       "    }\n",
       "\n",
       "    .dataframe thead th {\n",
       "        text-align: right;\n",
       "    }\n",
       "</style>\n",
       "<table border=\"1\" class=\"dataframe\">\n",
       "  <thead>\n",
       "    <tr style=\"text-align: right;\">\n",
       "      <th></th>\n",
       "      <th>Tweet_ID</th>\n",
       "      <th>Entity</th>\n",
       "      <th>Sentiment</th>\n",
       "      <th>Tweet_content</th>\n",
       "    </tr>\n",
       "  </thead>\n",
       "  <tbody>\n",
       "    <tr>\n",
       "      <th>0</th>\n",
       "      <td>2401</td>\n",
       "      <td>Borderlands</td>\n",
       "      <td>3</td>\n",
       "      <td>im getting on borderlands and i will murder yo...</td>\n",
       "    </tr>\n",
       "    <tr>\n",
       "      <th>1</th>\n",
       "      <td>2401</td>\n",
       "      <td>Borderlands</td>\n",
       "      <td>3</td>\n",
       "      <td>I am coming to the borders and I will kill you...</td>\n",
       "    </tr>\n",
       "    <tr>\n",
       "      <th>2</th>\n",
       "      <td>2401</td>\n",
       "      <td>Borderlands</td>\n",
       "      <td>3</td>\n",
       "      <td>im getting on borderlands and i will kill you ...</td>\n",
       "    </tr>\n",
       "    <tr>\n",
       "      <th>3</th>\n",
       "      <td>2401</td>\n",
       "      <td>Borderlands</td>\n",
       "      <td>3</td>\n",
       "      <td>im coming on borderlands and i will murder you...</td>\n",
       "    </tr>\n",
       "    <tr>\n",
       "      <th>4</th>\n",
       "      <td>2401</td>\n",
       "      <td>Borderlands</td>\n",
       "      <td>3</td>\n",
       "      <td>im getting on borderlands 2 and i will murder ...</td>\n",
       "    </tr>\n",
       "  </tbody>\n",
       "</table>\n",
       "</div>"
      ],
      "text/plain": [
       "   Tweet_ID       Entity  Sentiment  \\\n",
       "0      2401  Borderlands          3   \n",
       "1      2401  Borderlands          3   \n",
       "2      2401  Borderlands          3   \n",
       "3      2401  Borderlands          3   \n",
       "4      2401  Borderlands          3   \n",
       "\n",
       "                                       Tweet_content  \n",
       "0  im getting on borderlands and i will murder yo...  \n",
       "1  I am coming to the borders and I will kill you...  \n",
       "2  im getting on borderlands and i will kill you ...  \n",
       "3  im coming on borderlands and i will murder you...  \n",
       "4  im getting on borderlands 2 and i will murder ...  "
      ]
     },
     "execution_count": 13,
     "metadata": {},
     "output_type": "execute_result"
    }
   ],
   "source": [
    "# encoder for target feature\n",
    "from sklearn import preprocessing\n",
    "lb = preprocessing.LabelEncoder()\n",
    "# converting string based sentiments into numeric valuye which can be further used for training ML algorithm\n",
    "t_df['Sentiment']=lb.fit_transform(t_df['Sentiment'])\n",
    "t_df.head(5)"
   ]
  },
  {
   "cell_type": "code",
   "execution_count": 14,
   "id": "d6e32f2d",
   "metadata": {},
   "outputs": [
    {
     "data": {
      "text/html": [
       "<div>\n",
       "<style scoped>\n",
       "    .dataframe tbody tr th:only-of-type {\n",
       "        vertical-align: middle;\n",
       "    }\n",
       "\n",
       "    .dataframe tbody tr th {\n",
       "        vertical-align: top;\n",
       "    }\n",
       "\n",
       "    .dataframe thead th {\n",
       "        text-align: right;\n",
       "    }\n",
       "</style>\n",
       "<table border=\"1\" class=\"dataframe\">\n",
       "  <thead>\n",
       "    <tr style=\"text-align: right;\">\n",
       "      <th></th>\n",
       "      <th>Tweet_ID</th>\n",
       "      <th>Entity</th>\n",
       "      <th>Sentiment</th>\n",
       "      <th>Tweet_content</th>\n",
       "    </tr>\n",
       "  </thead>\n",
       "  <tbody>\n",
       "    <tr>\n",
       "      <th>0</th>\n",
       "      <td>3364</td>\n",
       "      <td>Facebook</td>\n",
       "      <td>0</td>\n",
       "      <td>I mentioned on Facebook that I was struggling ...</td>\n",
       "    </tr>\n",
       "    <tr>\n",
       "      <th>1</th>\n",
       "      <td>352</td>\n",
       "      <td>Amazon</td>\n",
       "      <td>2</td>\n",
       "      <td>BBC News - Amazon boss Jeff Bezos rejects clai...</td>\n",
       "    </tr>\n",
       "    <tr>\n",
       "      <th>2</th>\n",
       "      <td>8312</td>\n",
       "      <td>Microsoft</td>\n",
       "      <td>1</td>\n",
       "      <td>@Microsoft Why do I pay for WORD when it funct...</td>\n",
       "    </tr>\n",
       "    <tr>\n",
       "      <th>3</th>\n",
       "      <td>4371</td>\n",
       "      <td>CS-GO</td>\n",
       "      <td>1</td>\n",
       "      <td>CSGO matchmaking is so full of closet hacking,...</td>\n",
       "    </tr>\n",
       "    <tr>\n",
       "      <th>4</th>\n",
       "      <td>4433</td>\n",
       "      <td>Google</td>\n",
       "      <td>2</td>\n",
       "      <td>Now the President is slapping Americans in the...</td>\n",
       "    </tr>\n",
       "  </tbody>\n",
       "</table>\n",
       "</div>"
      ],
      "text/plain": [
       "   Tweet_ID     Entity  Sentiment  \\\n",
       "0      3364   Facebook          0   \n",
       "1       352     Amazon          2   \n",
       "2      8312  Microsoft          1   \n",
       "3      4371      CS-GO          1   \n",
       "4      4433     Google          2   \n",
       "\n",
       "                                       Tweet_content  \n",
       "0  I mentioned on Facebook that I was struggling ...  \n",
       "1  BBC News - Amazon boss Jeff Bezos rejects clai...  \n",
       "2  @Microsoft Why do I pay for WORD when it funct...  \n",
       "3  CSGO matchmaking is so full of closet hacking,...  \n",
       "4  Now the President is slapping Americans in the...  "
      ]
     },
     "execution_count": 14,
     "metadata": {},
     "output_type": "execute_result"
    }
   ],
   "source": [
    "v_df['Sentiment']=lb.fit_transform(v_df['Sentiment'])\n",
    "v_df.head(5)"
   ]
  },
  {
   "cell_type": "code",
   "execution_count": 15,
   "id": "ecae3622",
   "metadata": {},
   "outputs": [
    {
     "data": {
      "text/plain": [
       "686"
      ]
     },
     "execution_count": 15,
     "metadata": {},
     "output_type": "execute_result"
    }
   ],
   "source": [
    "# check 'nan' value in tweet_content and summation of it\n",
    "t_df['Tweet_content'].isnull().sum()"
   ]
  },
  {
   "cell_type": "code",
   "execution_count": 16,
   "id": "d7e4e4c6",
   "metadata": {},
   "outputs": [],
   "source": [
    "# drop all null value from tweet_content\n",
    "t_df.dropna(axis=0, inplace=True)"
   ]
  },
  {
   "cell_type": "code",
   "execution_count": 17,
   "id": "579682b0",
   "metadata": {},
   "outputs": [],
   "source": [
    "# training data feature\n",
    "tweet_train = t_df[\"Tweet_content\"]\n",
    "# valiation data feature\n",
    "tweet_valid = v_df[\"Tweet_content\"]\n",
    "# training data output value\n",
    "target_train = t_df['Sentiment']\n",
    "# validation data output value\n",
    "target_valid = v_df['Sentiment']"
   ]
  },
  {
   "cell_type": "code",
   "execution_count": 18,
   "id": "c4b1de9b",
   "metadata": {},
   "outputs": [
    {
     "name": "stdout",
     "output_type": "stream",
     "text": [
      "Trining data is: 73996 Validation data is: 1000\n"
     ]
    }
   ],
   "source": [
    "print(\"Trining data is:\",tweet_train.shape[0],\"Validation data is:\",tweet_valid.shape[0])"
   ]
  },
  {
   "cell_type": "code",
   "execution_count": 19,
   "id": "160169cc",
   "metadata": {},
   "outputs": [],
   "source": [
    "REPLACE_WITH_SPACE = re.compile(\"(@)\")\n",
    "SPACE = \" \"\n",
    "\n",
    "# preprocess on the tweets and removing @ \n",
    "def preprocess_reviews(reviews):  \n",
    "    reviews = [REPLACE_WITH_SPACE.sub(SPACE, line.lower()) for line in reviews]\n",
    "    \n",
    "    return reviews\n",
    "\n",
    "# preprocess training data based of tweets\n",
    "reviews_train_clean = preprocess_reviews(tweet_train)\n",
    "# preprocess validation data based of tweets\n",
    "reviews_valid_clean = preprocess_reviews(tweet_valid)"
   ]
  },
  {
   "cell_type": "code",
   "execution_count": 20,
   "id": "f225e89b",
   "metadata": {},
   "outputs": [],
   "source": [
    "# removing all stop words and doing further p;reprocessing on the tweets data\n",
    "def remove_stop_words(corpus):\n",
    "    removed_stop_words = []\n",
    "    for review in corpus:\n",
    "        removed_stop_words.append(\n",
    "            ' '.join([word for word in review.split()  if word not in english_stop_words]))\n",
    "    return removed_stop_words\n",
    "\n",
    "# removing stop words from training data\n",
    "no_stop_words_train = remove_stop_words(reviews_train_clean)\n",
    "# removing stop words from validation data\n",
    "no_stop_words_valid = remove_stop_words(reviews_valid_clean)"
   ]
  },
  {
   "cell_type": "code",
   "execution_count": 21,
   "id": "ce04b9d2",
   "metadata": {},
   "outputs": [],
   "source": [
    "# created a function for stemming words\n",
    "def get_stemmed_text(corpus):\n",
    "    stemmer = PorterStemmer()\n",
    "    return [' '.join([stemmer.stem(word) for word in review.split()]) for review in corpus]\n",
    "\n",
    "# stemming text on train data\n",
    "stemmed_reviews_train = get_stemmed_text(no_stop_words_train)\n",
    "# stemming text on validation data\n",
    "stemmed_reviews_valid = get_stemmed_text(no_stop_words_valid)"
   ]
  },
  {
   "cell_type": "code",
   "execution_count": 22,
   "id": "088c758b",
   "metadata": {},
   "outputs": [],
   "source": [
    "# using Tokenizer method to filter out special character and initializing its method\n",
    "tokenizer = Tokenizer(\n",
    "    num_words = 8000,\n",
    "    filters = '\"#$%&()*+-/:;<=>@[\\]^_`{|}~'\n",
    ")"
   ]
  },
  {
   "cell_type": "code",
   "execution_count": 23,
   "id": "2f942447",
   "metadata": {},
   "outputs": [],
   "source": [
    "# using Tokenizer method converting training tweets data to 3000 features\n",
    "tokenizer.fit_on_texts(tweet_train)\n",
    "X_train = tokenizer.texts_to_sequences(tweet_train)\n",
    "X_train = pad_sequences(X_train, maxlen = 3000)"
   ]
  },
  {
   "cell_type": "code",
   "execution_count": 24,
   "id": "2041f7dd",
   "metadata": {},
   "outputs": [],
   "source": [
    "# using Tokenizer method converting validation tweets data to 3000 features\n",
    "tokenizer.fit_on_texts(tweet_valid)\n",
    "X_valid = tokenizer.texts_to_sequences(tweet_valid)\n",
    "X_valid = pad_sequences(X_valid, maxlen = 3000)"
   ]
  },
  {
   "cell_type": "code",
   "execution_count": 25,
   "id": "636b5e80",
   "metadata": {},
   "outputs": [
    {
     "name": "stdout",
     "output_type": "stream",
     "text": [
      "Training features: (73996, 3000)\n",
      "Training labels: (73996,)\n",
      "Validation features: (1000, 3000)\n",
      "Validation labels: (1000,)\n"
     ]
    }
   ],
   "source": [
    "print(\"Training features:\",X_train.shape)\n",
    "print(\"Training labels:\", target_train.shape)\n",
    "print(\"Validation features:\",X_valid.shape)\n",
    "print(\"Validation labels:\", target_valid.shape)"
   ]
  },
  {
   "cell_type": "code",
   "execution_count": 26,
   "id": "89e8891d",
   "metadata": {},
   "outputs": [
    {
     "name": "stdout",
     "output_type": "stream",
     "text": [
      "              precision    recall  f1-score   support\n",
      "\n",
      "           0       0.57      0.58      0.57       172\n",
      "           1       0.60      0.78      0.68       266\n",
      "           2       0.67      0.59      0.63       285\n",
      "           3       0.76      0.62      0.69       277\n",
      "\n",
      "    accuracy                           0.65      1000\n",
      "   macro avg       0.65      0.64      0.64      1000\n",
      "weighted avg       0.66      0.65      0.65      1000\n",
      "\n"
     ]
    }
   ],
   "source": [
    "# initializing random forest classifier model\n",
    "text_classifier = RandomForestClassifier(n_estimators=5, random_state=0)\n",
    "# training the model with X_train (features) and target_train (label) training data\n",
    "text_classifier.fit(X_train, target_train)\n",
    "# Prediction of validation data (X_valid) and storing prediction result in y_pred\n",
    "y_pred = text_classifier.predict(X_valid)\n",
    "# generating classification_report based on predicted outcome vs actual outcome of validation data\n",
    "print(classification_report(target_valid,y_pred))"
   ]
  },
  {
   "cell_type": "markdown",
   "id": "5321eea9",
   "metadata": {},
   "source": [
    "# deep learning based custom model approach\n"
   ]
  },
  {
   "cell_type": "code",
   "execution_count": 27,
   "id": "00aea43c",
   "metadata": {},
   "outputs": [],
   "source": [
    "# training data feature\n",
    "tweet_train = t_df[\"Tweet_content\"]\n",
    "# valiation data feature\n",
    "tweet_valid = v_df[\"Tweet_content\"]\n",
    "# training data output value\n",
    "target_train = t_df['Sentiment']\n",
    "# validation data output value\n",
    "target_valid = v_df['Sentiment']"
   ]
  },
  {
   "cell_type": "code",
   "execution_count": 28,
   "id": "27747d46",
   "metadata": {},
   "outputs": [],
   "source": [
    "# using Tokenizer method to filter out special character and initializing its method\n",
    "tokenizer = Tokenizer(\n",
    "    num_words = 8000,\n",
    "    filters = '\"#$%&()*+-/:;<=>@[\\]^_`{|}~'\n",
    ")"
   ]
  },
  {
   "cell_type": "code",
   "execution_count": 29,
   "id": "b6f94dd3",
   "metadata": {},
   "outputs": [],
   "source": [
    "# using Tokenizer method converting training tweets data to 3000 features\n",
    "tokenizer.fit_on_texts(tweet_train)\n",
    "x_train = tokenizer.texts_to_sequences(tweet_train)\n",
    "x_train = pad_sequences(x_train, maxlen = 3000)"
   ]
  },
  {
   "cell_type": "code",
   "execution_count": 30,
   "id": "961e0645",
   "metadata": {},
   "outputs": [],
   "source": [
    "# using Tokenizer method converting validation tweets data to 3000 features\n",
    "tokenizer.fit_on_texts(tweet_valid)\n",
    "x_valid = tokenizer.texts_to_sequences(tweet_valid)\n",
    "x_valid = pad_sequences(x_valid, maxlen = 3000)"
   ]
  },
  {
   "cell_type": "code",
   "execution_count": 31,
   "id": "c3b0ebb9",
   "metadata": {},
   "outputs": [],
   "source": [
    "# converting labels into one-hot encoding form\n",
    "y_train = to_categorical(target_train)\n",
    "y_valid = to_categorical(target_valid)"
   ]
  },
  {
   "cell_type": "code",
   "execution_count": 32,
   "id": "798f5503",
   "metadata": {},
   "outputs": [
    {
     "name": "stdout",
     "output_type": "stream",
     "text": [
      "Model: \"sequential\"\n",
      "_________________________________________________________________\n",
      " Layer (type)                Output Shape              Param #   \n",
      "=================================================================\n",
      " dense (Dense)               (None, 128)               384128    \n",
      "                                                                 \n",
      " dense_1 (Dense)             (None, 256)               33024     \n",
      "                                                                 \n",
      " dropout (Dropout)           (None, 256)               0         \n",
      "                                                                 \n",
      " dense_2 (Dense)             (None, 512)               131584    \n",
      "                                                                 \n",
      " dense_3 (Dense)             (None, 512)               262656    \n",
      "                                                                 \n",
      " dropout_1 (Dropout)         (None, 512)               0         \n",
      "                                                                 \n",
      " dense_4 (Dense)             (None, 256)               131328    \n",
      "                                                                 \n",
      " dense_5 (Dense)             (None, 128)               32896     \n",
      "                                                                 \n",
      " dense_6 (Dense)             (None, 128)               16512     \n",
      "                                                                 \n",
      " dropout_2 (Dropout)         (None, 128)               0         \n",
      "                                                                 \n",
      " dense_7 (Dense)             (None, 64)                8256      \n",
      "                                                                 \n",
      " dense_8 (Dense)             (None, 32)                2080      \n",
      "                                                                 \n",
      " dense_9 (Dense)             (None, 16)                528       \n",
      "                                                                 \n",
      " dense_10 (Dense)            (None, 4)                 68        \n",
      "                                                                 \n",
      "=================================================================\n",
      "Total params: 1,003,060\n",
      "Trainable params: 1,003,060\n",
      "Non-trainable params: 0\n",
      "_________________________________________________________________\n"
     ]
    }
   ],
   "source": [
    "# creating a sequential model with dense layers, dropouts and all activation function as relu to remove \n",
    "#negative value and last activation function as softamx for getting final value and initialized weights in first two layer\n",
    "model = Sequential()\n",
    "model.add(Dense(128, input_dim = x_train.shape[1], activation='relu', kernel_initializer='he_normal'))\n",
    "model.add(Dense(256, activation='relu', kernel_initializer='he_normal'))\n",
    "model.add(Dropout(0.2))\n",
    "model.add(Dense(512, activation='relu'))\n",
    "model.add(Dense(512, activation='relu'))\n",
    "model.add(Dropout(0.2))\n",
    "model.add(Dense(256, activation='relu'))\n",
    "model.add(Dense(128, activation='relu'))\n",
    "model.add(Dense(128, activation='relu'))\n",
    "model.add(Dropout(0.2))\n",
    "model.add(Dense(64, activation='relu'))\n",
    "model.add(Dense(32, activation='relu'))\n",
    "model.add(Dense(16, activation='relu'))\n",
    "model.add(Dense(4, activation='softmax'))\n",
    "# summary of the model\n",
    "model.summary()"
   ]
  },
  {
   "cell_type": "code",
   "execution_count": 33,
   "id": "4e3f0c20",
   "metadata": {},
   "outputs": [],
   "source": [
    "# compiling the custom DL based model with loss calculated on the basis of categorical_crossentropy, with adam optimizer and used accuracy as metrics\n",
    "model.compile(loss='categorical_crossentropy',\n",
    "                 optimizer='adam', metrics=[\"accuracy\"])"
   ]
  },
  {
   "cell_type": "code",
   "execution_count": 34,
   "id": "9aca5e52",
   "metadata": {},
   "outputs": [
    {
     "name": "stdout",
     "output_type": "stream",
     "text": [
      "Training features: (73996, 3000)\n",
      "Training labels: (73996, 4)\n",
      "Validation features: (1000, 3000)\n",
      "Validation labels: (1000, 4)\n"
     ]
    }
   ],
   "source": [
    "print(\"Training features:\",x_train.shape)\n",
    "print(\"Training labels:\", y_train.shape)\n",
    "print(\"Validation features:\",x_valid.shape)\n",
    "print(\"Validation labels:\", y_valid.shape)"
   ]
  },
  {
   "cell_type": "code",
   "execution_count": 35,
   "id": "0b09ad31",
   "metadata": {},
   "outputs": [
    {
     "name": "stdout",
     "output_type": "stream",
     "text": [
      "Epoch 1/20\n",
      "579/579 [==============================] - 38s 62ms/step - loss: 1.4408 - accuracy: 0.3023 - val_loss: 1.3583 - val_accuracy: 0.3190\n",
      "Epoch 2/20\n",
      "579/579 [==============================] - 35s 60ms/step - loss: 1.3564 - accuracy: 0.3269 - val_loss: 1.3630 - val_accuracy: 0.3150\n",
      "Epoch 3/20\n",
      "579/579 [==============================] - 36s 62ms/step - loss: 1.3515 - accuracy: 0.3373 - val_loss: 1.3515 - val_accuracy: 0.3490\n",
      "Epoch 4/20\n",
      "579/579 [==============================] - 34s 58ms/step - loss: 1.3491 - accuracy: 0.3408 - val_loss: 1.3479 - val_accuracy: 0.3440\n",
      "Epoch 5/20\n",
      "579/579 [==============================] - 32s 56ms/step - loss: 1.3468 - accuracy: 0.3448 - val_loss: 1.3527 - val_accuracy: 0.3500\n",
      "Epoch 6/20\n",
      "579/579 [==============================] - 33s 57ms/step - loss: 1.3454 - accuracy: 0.3449 - val_loss: 1.3524 - val_accuracy: 0.3290\n",
      "Epoch 7/20\n",
      "579/579 [==============================] - 33s 56ms/step - loss: 1.3435 - accuracy: 0.3474 - val_loss: 1.3514 - val_accuracy: 0.3520\n",
      "Epoch 8/20\n",
      "579/579 [==============================] - 33s 57ms/step - loss: 1.3415 - accuracy: 0.3490 - val_loss: 1.3586 - val_accuracy: 0.3240\n",
      "Epoch 9/20\n",
      "579/579 [==============================] - 33s 57ms/step - loss: 1.3394 - accuracy: 0.3526 - val_loss: 1.3432 - val_accuracy: 0.3500\n",
      "Epoch 10/20\n",
      "579/579 [==============================] - 33s 57ms/step - loss: 1.3347 - accuracy: 0.3568 - val_loss: 1.3530 - val_accuracy: 0.3440\n",
      "Epoch 11/20\n",
      "579/579 [==============================] - 35s 61ms/step - loss: 1.3312 - accuracy: 0.3596 - val_loss: 1.3395 - val_accuracy: 0.3530\n",
      "Epoch 12/20\n",
      "579/579 [==============================] - 32s 56ms/step - loss: 1.3264 - accuracy: 0.3652 - val_loss: 1.3441 - val_accuracy: 0.3630\n",
      "Epoch 13/20\n",
      "579/579 [==============================] - 33s 58ms/step - loss: 1.3228 - accuracy: 0.3698 - val_loss: 1.3455 - val_accuracy: 0.3460\n",
      "Epoch 14/20\n",
      "579/579 [==============================] - 35s 60ms/step - loss: 1.3165 - accuracy: 0.3725 - val_loss: 1.3327 - val_accuracy: 0.3850\n",
      "Epoch 15/20\n",
      "579/579 [==============================] - 35s 60ms/step - loss: 1.3105 - accuracy: 0.3773 - val_loss: 1.3326 - val_accuracy: 0.3670\n",
      "Epoch 16/20\n",
      "579/579 [==============================] - 35s 60ms/step - loss: 1.3045 - accuracy: 0.3830 - val_loss: 1.3184 - val_accuracy: 0.3800\n",
      "Epoch 17/20\n",
      "579/579 [==============================] - 35s 60ms/step - loss: 1.2951 - accuracy: 0.3884 - val_loss: 1.3323 - val_accuracy: 0.3730\n",
      "Epoch 18/20\n",
      "579/579 [==============================] - 32s 56ms/step - loss: 1.2899 - accuracy: 0.3921 - val_loss: 1.3308 - val_accuracy: 0.3970\n",
      "Epoch 19/20\n",
      "579/579 [==============================] - 13s 23ms/step - loss: 1.2821 - accuracy: 0.3965 - val_loss: 1.3627 - val_accuracy: 0.3930\n",
      "Epoch 20/20\n",
      "579/579 [==============================] - 14s 24ms/step - loss: 1.2757 - accuracy: 0.4026 - val_loss: 1.3276 - val_accuracy: 0.3910\n"
     ]
    },
    {
     "data": {
      "text/plain": [
       "<keras.callbacks.History at 0x17fc398f880>"
      ]
     },
     "execution_count": 35,
     "metadata": {},
     "output_type": "execute_result"
    }
   ],
   "source": [
    "# training the model with x_train as training features and y_train as labels and validation data with (x_valid, y_valid) for validation\n",
    "# Here I have used bacth size of 128 with only 20 epochs\n",
    "model.fit(x_train, y_train, batch_size=128 , epochs=20, validation_data=(x_valid, y_valid))"
   ]
  },
  {
   "cell_type": "code",
   "execution_count": 36,
   "id": "bc5bb059",
   "metadata": {},
   "outputs": [],
   "source": [
    "from transformers import pipeline"
   ]
  },
  {
   "cell_type": "code",
   "execution_count": 37,
   "id": "9b1d0bd8",
   "metadata": {},
   "outputs": [],
   "source": [
    "from datasets import load_dataset\n",
    "from datasets import Dataset\n"
   ]
  },
  {
   "cell_type": "code",
   "execution_count": 38,
   "id": "95e837e4",
   "metadata": {},
   "outputs": [],
   "source": [
    "dataset = Dataset.from_pandas(t_df)\n"
   ]
  },
  {
   "cell_type": "code",
   "execution_count": 39,
   "id": "cfe6151e",
   "metadata": {},
   "outputs": [
    {
     "data": {
      "text/plain": [
       "Dataset({\n",
       "    features: ['Tweet_ID', 'Entity', 'Sentiment', 'Tweet_content', '__index_level_0__'],\n",
       "    num_rows: 73996\n",
       "})"
      ]
     },
     "execution_count": 39,
     "metadata": {},
     "output_type": "execute_result"
    }
   ],
   "source": [
    "dataset"
   ]
  },
  {
   "cell_type": "code",
   "execution_count": 40,
   "id": "7ade0499",
   "metadata": {},
   "outputs": [
    {
     "data": {
      "text/plain": [
       "{'Tweet_ID': 2402,\n",
       " 'Entity': 'Borderlands',\n",
       " 'Sentiment': 3,\n",
       " 'Tweet_content': \"2010 So I spent a few hours making something for fun. . . If you don't know I am a HUGE RhandlerR fan and Maya is one of my favorite characters. So I decided to make myself a wallpaper for my PC. . Here is the original image versus the creation I made :) Enjoy! pic.twitter.com/mLsI5wf9Jg\",\n",
       " '__index_level_0__': 10}"
      ]
     },
     "execution_count": 40,
     "metadata": {},
     "output_type": "execute_result"
    }
   ],
   "source": [
    "dataset[10]"
   ]
  },
  {
   "cell_type": "code",
   "execution_count": 41,
   "id": "e6543708",
   "metadata": {},
   "outputs": [
    {
     "data": {
      "text/plain": [
       "['im getting on borderlands and i will murder you all ,',\n",
       " 'I am coming to the borders and I will kill you all,',\n",
       " 'im getting on borderlands and i will kill you all,',\n",
       " 'im coming on borderlands and i will murder you all,',\n",
       " 'im getting on borderlands 2 and i will murder you me all,',\n",
       " 'im getting into borderlands and i can murder you all,',\n",
       " \"So I spent a few hours making something for fun. . . If you don't know I am a HUGE @Borderlands fan and Maya is one of my favorite characters. So I decided to make myself a wallpaper for my PC. . Here is the original image versus the creation I made :) Enjoy! pic.twitter.com/mLsI5wf9Jg\",\n",
       " \"So I spent a couple of hours doing something for fun... If you don't know that I'm a huge @ Borderlands fan and Maya is one of my favorite characters, I decided to make a wallpaper for my PC.. Here's the original picture compared to the creation I made:) Have fun! pic.twitter.com / mLsI5wf9Jg\",\n",
       " \"So I spent a few hours doing something for fun... If you don't know I'm a HUGE @ Borderlands fan and Maya is one of my favorite characters.\",\n",
       " \"So I spent a few hours making something for fun. . . If you don't know I am a HUGE RhandlerR fan and Maya is one of my favorite characters. So I decided to make myself a wallpaper for my PC. . Here is the original image versus the creation I made :) Enjoy! pic.twitter.com/mLsI5wf9Jg\",\n",
       " \"2010 So I spent a few hours making something for fun. . . If you don't know I am a HUGE RhandlerR fan and Maya is one of my favorite characters. So I decided to make myself a wallpaper for my PC. . Here is the original image versus the creation I made :) Enjoy! pic.twitter.com/mLsI5wf9Jg\",\n",
       " 'was',\n",
       " 'Rock-Hard La Varlope, RARE & POWERFUL, HANDSOME JACKPOT, Borderlands 3 (Xbox) dlvr.it/RMTrgF  ',\n",
       " 'Rock-Hard La Varlope, RARE & POWERFUL, HANDSOME JACKPOT, Borderlands 3 (Xbox) dlvr.it / RMTrgF',\n",
       " 'Rock-Hard La Varlope, RARE & POWERFUL, HANDSOME JACKPOT, Borderlands 3 (Xbox) dfr.it / RMTrgF',\n",
       " 'Rock-Hard La Vita, RARE BUT POWERFUL, HANDSOME JACKPOT, Borderlands 1 (Xbox) dlvr.it/RMTrgF',\n",
       " 'Live Rock - Hard music La la Varlope, RARE & the POWERFUL, Live HANDSOME i JACKPOT, Borderlands 3 ( Sega Xbox ) dlvr. From it / e RMTrgF',\n",
       " 'I-Hard like me, RARE LONDON DE, HANDSOME 2011, Borderlands 3 (Xbox) dlvr.it/RMTrgF',\n",
       " 'that was the first borderlands session in a long time where i actually had a really satisfying combat experience. i got some really good kills',\n",
       " 'this was the first Borderlands session in a long time where i actually had a really satisfying fighting experience. i got some really good kills',\n",
       " 'that was the first borderlands session in a long time where i actually had a really satisfying combat experience. i got some really good kills',\n",
       " 'that was the first borderlands session in a long time where i actually enjoyed a really satisfying combat experience. i got some rather good kills',\n",
       " 'that I was the first real borderlands session in a nice long wait time where i actually had a really satisfying combat experience. and i got some really good kills',\n",
       " 'that was the first borderlands session in a hot row where i actually had a really bad combat experience. i did some really good kills',\n",
       " 'the biggest dissappoinment in my life came out a year ago fuck borderlands 3',\n",
       " 'The biggest disappointment of my life came a year ago.',\n",
       " 'The biggest disappointment of my life came a year ago.',\n",
       " 'the biggest dissappoinment in my life coming out a year ago fuck borderlands 3',\n",
       " 'For the biggest male dissappoinment in my life came hanging out a year time ago fuck borderlands 3',\n",
       " 'the biggest dissappoinment in my life came back last year ago fuck borderlands last',\n",
       " 'WE FINISHED BORDERLANDS 3 FINALLY YAS! Thank you for hanging out everyone! It was fun. I will try to stream tomorrow but if not I might so some IRL streams while awayu. We shall see. Thank you so much for the raids @mompou_mumpow @MegaMagwitch and @KfdMitch.',\n",
       " \"WE FINALLY FINALLY FIND BORDERLANDS 3 YES! Thank you all for hanging out! It was fun. I'll try to stream tomorrow, but if not, maybe some IRL streams. We'll see. Thanks for the raids @ mompou _ mumpow @ MegaMagwitch and @ KfdMitch.\",\n",
       " \"Thank you for hanging up everyone! It was fun. I'll try to get a haircut tomorrow, but if it wasn't for me, some IRL streams would still be in Hawaii. We'll see. Thank you so much for the @ mompou _ mumpow @ MegaMagwife and @ fendMitch raids.\",\n",
       " 'WE FINISHED BORDERLANDS 3 UPDATE YAS! Thank you for hanging out guys! It was fun. I will try to stream and even if not I might so some IRL streams while awayu. We shall go. Thank you so much for the raids @mompou_mumpow @MegaMagwitch and Hope.',\n",
       " 'WE FINISHED BORDERLANDS 3 AND FINALLY YAS! Thank you everyone for hanging out everyone! It was fun. I will try to make stream tomorrow but if not I might make so some IRL streams while awayu. 10 We never shall see. Thank you both so... much for the raids @mompou_mumpow or @MegaMagwitch and 4 @KfdMitch.',\n",
       " 'WE FINISHED BORDERLANDS 3 FINALLY YAS! Hey you for hanging out so! It was fun. I will try that stream tomorrow and if not I might use some IRL streams from awayu. We shall see. Thank you so much how many raids @mompou_mumpow did and their.',\n",
       " 'Man Gearbox really needs to fix this dissapointing drops in the new Borderlands 3 DLC cant be fine to farm bosses on Mayhem 10 to get 1 legendary drop while anywhere else i get 6-10 drops. . Really sucks alot',\n",
       " 'Man Gearbox really needs to fix these disappointing drops in the new Borderlands 3 DLC for farm bosses on Mayhem 10 to get a legendary drop, while I get 6-10 drops elsewhere.',\n",
       " 'Man Gearbox really needs to fix this disssapointing drops in the new Borderlands 3 DLC cant be fine to farm bosses on Mayhem 10 to get 1 legendary drop while elsewhere i get 6-10 drops... Really sucks alot',\n",
       " 'Man Bethesda really needs to fix this dissapointing drops and the new Borderlands 3 It cant be fine to farm bosses on Mayhem 10 to get 1 legendary drop while anywhere else i get 6-10 drops.. Really sucks...',\n",
       " 'Man Gearbox really needs to fix this dissapointing drops in the completely new Borderlands 3 Days DLC i cant e be fine having to be farm bosses on Mayhem 10 to e get 1 legendary foot drop while anywhere else i get 6 - 10 drops.. It Really sucks to alot',\n",
       " '<unk> Gearbox really time to fix this 10 drops in the new Borderlands 3 DLC or be fine to force bosses on Mayhem 10 to get a legendary drop while everyone else i get 6-10 drops.. Really needs alot',\n",
       " 'Check out this epic streamer!.  ',\n",
       " 'Check out this epic streamer!.',\n",
       " 'Watch this epic striptease!.',\n",
       " 'Check out our epic streamer!.',\n",
       " 'Check out this big epic streamer!.',\n",
       " 'Check<unk> this epic streamer!.',\n",
       " \"Blaming Sight for Tardiness! A little bit of borderlands. I got called in early for work tomorrow so I can't make up time. Sorry my loves .  twitch.tv/punnisenpai\",\n",
       " \"A bit of borderland. I was called to work tomorrow morning, so I can't catch up. Sorry, my love. twitch.tv / punnisenpai\",\n",
       " \"Guilty of sobriety! A bit of a borderline. I was called to work early tomorrow, so I can't catch up.\",\n",
       " \"Blaming Sight for Tardiness! A little bit of borderlands. I got called in early for work tomorrow so I can't make up time. Sorry my loves .  twitch.tv/punnisenpai\",\n",
       " \"for Blaming Sight for Tardiness! A little bit of borderlands. I got called in early for work tomorrow so I can't make up time. Sorry my loves .  twitch.tv/punnisenpai\",\n",
       " 'all',\n",
       " 'why does like every man in borderlands have slicked back hair haven’t you heard of bangs you stupid assholes',\n",
       " 'Why, like every man in border countries, have you not heard of bangs, you stupid assholes?',\n",
       " 'Why, like everyone else in the border countries, have your hair fallen off, have you not heard that you are stupid aliens?',\n",
       " 'why does like<unk> man in borderlands have slicked back hair or you heard of bangs you stupid assholes',\n",
       " 'why Beth does like every man in borderlands have she slicked that back hair haven ’ t you heard enough of gray bangs you stupid assholes',\n",
       " 'why does practically every man in France have slicked back hair haven’t you heard of bangs the greedy assholes',\n",
       " ' . . [  ',\n",
       " '.. [',\n",
       " '.. 45',\n",
       " '.. [',\n",
       " '.. what',\n",
       " \"Going to finish up Borderlands 2 today. I've got some new commands set up and am looking forward to a good stream! Starting in about am hour!\",\n",
       " 'I will finish Borderlands 2 today. I have some new commands set up and am looking forward to a good stream! Start in about an hour!',\n",
       " \"I'm going to finish Borderlands 2 today. I have some new commands installed and I'm looking forward to a good stream!\",\n",
       " \"Going to finish up Borderlands 2 today. I've got some new events set up and am look forward to a good stream! Starting in about 20 hour!\",\n",
       " \"Going to finish finish cleaning up Borderlands 2 today. I've just got her some new commands set all up and am looking forward it to a good stream! Starting in about am hour!\",\n",
       " \"Going to finish up volume 2 today. I've got some awesome server set up and is looking forward to a good stream! Starting in about am hour!\",\n",
       " \"imma probably play some borderlands tps in a bit . that'll be fun\",\n",
       " 'imma is probably playing a bit of borderland tps. That will be fun.',\n",
       " \"imma will probably play some border tps in a bit. It's going to be fun\",\n",
       " \"imma probably play live borderlands tps in a bit. that'll be fun\",\n",
       " \"for imma probably play some borderlands tps in a bit. that'yer ll be a fun\",\n",
       " \"imma probably got some video tps in a bit. that'll make fun\",\n",
       " 'One of our own @ProfZeroo is live w/ @borderlands 3‼.  .  . . Catch him here: buff.ly/2WmmiP5 . . Say \"Streamer Shouts\" in chat for a chance to be in a coming. @streamer_shouts Shout Out. . .  ',\n",
       " 'One of our own @ ProfZeroo is live w / @ borderlands 3.... catch him here: buff.ly / 2WmmiP5.. Say \"Streamer Shouts\" in chat for a chance to be in an upcoming one. @ streamer _ shouts Shout Out...',\n",
       " 'One of our own @ ProfZero - live w / @ borderlands 3.... Catch him here: buff.ly / 2WmmiP5... Say \"Stream Shouts\" in chat for a chat for a chance to be in a coming. @ stream _ Shouts Shout Out....',\n",
       " 'One of our own @ProfZeroo is live >/ @borderlands 3‼. . !. Catch him here: buff.ly/2WmmiP5 p. Say some Shouts\" in chat – a chance to be in a coming. Also Shout Out...',\n",
       " 'One of our shows own @ProfZeroo is live via w / at @borderlands 3 and [UNK].... Catch him here : the buff. ly / to 2WmmiP5.. to Say \" Streamer Shouts \" in chat for a chance to officially be in a series coming. @streamer_shouts 1 Shout Out...',\n",
       " 'One of its own movies is live w/ @ProfZeroo 3!!.... Catch him from: buff.ly/2WmmiP5.. for \"Streamer Shouts\" in invitation or a chance to be out a coming. All 3 invites...',\n",
       " 'FUCK YESSSSSSSS . ',\n",
       " 'FICK YESSSSSS.',\n",
       " 'FUCK YESSSSSSSS.',\n",
       " 'FUCK YESSSSSSSS<unk>',\n",
       " 'A FUCK... YESSSSSSSS.',\n",
       " 'FUCK YOU.',\n",
       " 'I hate that this easy mayhem modifier event on mayhem won’t last forever. this is the most fun i’ve had in the game since they added them horrible modifiers. @Borderlands please give me the option to play mayhem 10 but turn the modifiers off PLS',\n",
       " \"I hate that this simple Chaos Modifier event on Chaos won't last forever. That's the most fun I've had in the game since they added terrible modifiers. @ Borderlands please give me the option to play Chaos 10 but turn off the modifiers.\",\n",
       " \"I hate that this easy mayhem modifier event on mayhem won't last forever. this is the most fun i've had in the game since they added them horrible modifiers. @ Borderlands please give me the option to play mayhem 10 but turn the modifiers off PLS\",\n",
       " 'I hate saying this easy day 9 event on mayhem won’t last forever. this is the most fun i’ve had in the game since they added them horrible modifiers. @Borderlands please give me some ability to play mayhem 10 but turn the modifiers off PLS',\n",
       " 'I hate thinking that this easy mayhem modifier event on total mayhem won ’ t last forever. this is the absolutely most ridiculous fun experience i ’ ve had in the game almost since... they added them horrible modifiers. @Borderlands please do give me the option option to a play mayhem 10 but turn the modifiers off PLS',\n",
       " 'I hate that this easy horrible modifier event on game 10 last forever. That is the best fun i’ve taken in the past until they added them horrible modifiers. @Borderlands please send me the option to play mayhem 10 but turn the modifiers for PLS',\n",
       " 'Grounded almost looked pretty cool even despite the borderlands tier unfunny writing until it became yet another survival crafting game. I really can’t wait for this shitty trend to die',\n",
       " \"Grounded looked cool despite the borderline unfunny writing, until it became another survival crafting game. I really can't wait for this crappy trend to die.\",\n",
       " \"Grosskreutz looked pretty cool, even despite the unfunny spelling, until it turned into another survival game. I really can't wait for this crap trend to die\",\n",
       " 'Grounded almost looked pretty cool here despite the borderlands tier unfunny writing until it became yet an survival crafting game. I really can’t wait for this shitty mod to die',\n",
       " 'Deep Grounded almost looked pretty cool even despite the borderlands fifth tier unfunny writing format until ultimately it became yet another survival crafting mobile game. I really can ’ t wait for this shitty trend starting to... die',\n",
       " 'Grounded almost was pretty cool even despite the top tier unfunny writing until we became yet another annoying crafting game. I seriously can’t wait on this shitty trend to die',\n",
       " 'Appreciate the (sonic) concepts / praxis Valenzuela and Landa-Posas thread together in this talk: multimodal listening, soundwalks, borderlands frameworks, participatory action research, and testimonios. . . So many thoughtful and resonant intersections here.. .  ',\n",
       " 'Appreciate the (sound) concepts / practices that Valenzuela and Landa-Posas combine in this lecture: multimodal listening, soundwalks, borderland frameworks, participatory action research and testimonies... So many thoughtful and resonant intersections here...',\n",
       " 'Evaluate the (sound) concepts / concepts of Valensela and Landa Pozas together in this conversation: multimodal listening, walks, border areas, joint action studies, etc. So many amazing and resonant intersections here...',\n",
       " 'Appreciate the (sonic) concepts / praxis Valenzuela and Moreno-Posas have together in this talk: multimodal listening, soundwalks, borderlands recordings, participatory field research, and testimonios.... So many thoughtful and resonant intersections here.. :-)',\n",
       " 'Appreciate by the ( sonic ) electronic concepts / praxis Valenzuela and Landa - Posas do thread together together in creating this talk : multimodal visual listening, digital soundwalks, borderlands frameworks, participatory action research, interviews and testimonios... So many thoughtful thoughts and resonant intersections reflected here...',\n",
       " 'Appreciate the (sonic) conversations / actions Klein and Landa-Posas brought together in our talk: multimodal experiences, soundwalks, ethical frameworks, participatory action practices, and testimonios... So many provocative and resonant intersections today...',\n",
       " \"@Borderlands how do I submit a complaint? Your CEO isn't paying his staff their bonuses.\",\n",
       " \"@ Borderlands, how can I file a complaint? Your CEO doesn't pay his employees their bonuses.\",\n",
       " \"@ Borderlands how to file a complaint? Your CEO doesn't pay his employees bonuses.\",\n",
       " \"@Borderlands how did I submit a complaint? Your CEO isn't paying his competitors their bonuses.\",\n",
       " \"@Borderlands how do suppose I submit a complaint? Your CEO isn'ain t even paying his entire staff their bonuses.\",\n",
       " \"Now how do I submit any complaint? Your CEO isn't offering his staff their bonuses.\",\n",
       " 'All the Borderlands are fuckin trash',\n",
       " 'All the Borderlands are damn rubbish',\n",
       " 'All the borderlands are fucking thrash',\n",
       " 'All the Borderlands shit fuckin trash',\n",
       " '35 All the Borderlands are fuckin trash',\n",
       " 'All the Borderlands are fuckin stupid',\n",
       " \"Finally played through borderlands 3. The actual game play is great. Almost all guns feel fun, and I never once felt like I needed to grind. That story on the other hand.... All I will say Is that I'm very much so looking forward to the eventual cutscene skip :)\",\n",
       " 'Finally played by Borderlands 3. The actual game is great. Almost all weapons feel funny, and I never felt like I had to grind. On the other hand... All I will say is that I am very much looking forward to the eventual sequence skip:)',\n",
       " \"This story on the other hand.... All I will say is that I'm looking forward to an occasional slip:)\",\n",
       " \"Finally played through borderlands 3. The open game play is great. Almost all guns feel fun, and I never once felt like I needed to grind. The story on to another hand.... All I will say Is that I'm very much so looking forward to its eventual cutscene skip :)\",\n",
       " \"Finally played through borderlands 3. The actual game I play is great. Almost all guns feel fun, and yet I never once felt much like someone I seriously needed to grind. That pretty story on the other side hand.... All I will say Is that I'm very damn much so forward looking forward to the eventual endless cutscene skip : )\",\n",
       " \"Finally played through borderlands 5. The actual game play is great. Almost all guns were fun, and I never once felt sure I needed to grind. That story is the other hand.... but I will say now oh yes'm very much so looking forward to the extended cutscene skip :)\",\n",
       " 'Loving these new @GhostLifestyle cans!! Anyone else drink Ghost?. .. .. . .  ',\n",
       " 'I love these new @ GhostLifestyle cans!! Everyone else drinks ghost?....',\n",
       " 'Love these new @ GhostLive cans!! Does anyone else drink Ghost?..',\n",
       " 'Loving these new @GhostLifestyle cans!! Anyone else drink Ghost?......',\n",
       " 'Loving back these three new @GhostLifestyle cans!! By Anyone else else drink Ghost?.......',\n",
       " 'do these new @GhostLifestyle<unk> They want drink Ghost?.......',\n",
       " 'Come meet one of the lovely Gaming Goddesses . ',\n",
       " 'Meet one of the lovely gambling goddesses.',\n",
       " 'Come meet one of the beautiful gods of gambling.',\n",
       " 'Come to one of the lovely Gaming Goddesses.',\n",
       " '16 Come meet one of... the lovely Gaming Goddesses.',\n",
       " 'Come meet one of the lovely Green Goddesses.',\n",
       " 'How the hell are we into Halloween month already?! . ',\n",
       " 'How the hell are we already into Halloween month?!.',\n",
       " 'How the hell are we already in Halloween month?!.',\n",
       " 'How the hell are March into Halloween month already?!.',\n",
       " 'How the hell are pulling we into Halloween month starting already?!.',\n",
       " 'in the hell are we into Halloween month already?!.',\n",
       " '\"What a bitch!\"',\n",
       " '\"What a slut!\"',\n",
       " '\"What a bitch!\"',\n",
       " '\"What terrible bitch!\"',\n",
       " '\"... What a bitch! \"',\n",
       " '\"What a miracle!\"',\n",
       " 'Ok I am LOVING THIS (also playing Bombs Over Baghdad in anything gets me hype)  Very Borderlands like and the concept is A1!',\n",
       " \"Ok I'm LOVING THIS (also playing Bombs Over Baghdad in something gives me a hype) Very Borderlands like and the concept is A1!\",\n",
       " 'Ok I am LOVING THIS (also playing Bombs Over Baghad in anything gets me here) Very Borderlands like and the concept is A1!',\n",
       " 'Ok I am LOVING THIS (also seeing Take Over Baghdad in anything gets me hype)  Very Borderlands like and the concept is awesome!',\n",
       " 'Ok sir I am LOVING THIS ( also just playing Bombs Over Baghdad and in case anything gets its me hype ) I Very Borderlands like and the concept is A1!',\n",
       " 'Ok I am LOVING THIS (also playing Bombs and Earth in anything gets me hype) Very good RPG and the concept is A1!',\n",
       " 'Just uninstalled all of my other games to make space for Borderlands 3 . ',\n",
       " 'Just uninstall all my other games to make room for Borderlands 3.',\n",
       " 'Just deleted all my other games to make room for Borderlands 3.',\n",
       " 'Just uninstalled all of my other games will make space for Borderlands 3.',\n",
       " 'Just uninstalled all other of my my other games to make space for watching Borderlands 3.',\n",
       " 'Just uninstalled all of all other games in make space for Borderlands 3.',\n",
       " 'Already loving Bleeding Edge... what a clever game! Cross between Overwatch, Borderlands and Domination game mode. Cool as!. .  ',\n",
       " 'I love Bleeding Edge... what a clever game! Crossroads of Overwatch, Borderlands and Domination game mode. Cool as!..',\n",
       " 'Cross between Overwatch, Borderlands and Domination game mode. Cool as!.',\n",
       " 'Already loving Bleeding Edge... what a fun game! Cross between Overwatch, Borderlands and Xbox game mode. Cool as!..',\n",
       " 'Already also loving the Bleeding Edge... what is a clever game! Cross between Overwatch, Borderlands and Future Domination game mode. 2016 Cool out as!..',\n",
       " 'Already played Bleeding Edge... what a clever game! Cross between fantasy, Borderlands non Domination game mode. Playing as!..',\n",
       " 'Bioshock AND borderlands coming to the switch bitch count me the fuck in',\n",
       " 'Bioshock AND borderlands coming to the switch bitch count me the fuck in',\n",
       " 'Bioshock And borderlands coming to the switch bitch count me the fuck in',\n",
       " 'Bioshock AND borderlands coming to the desert bitch count me the fuck in',\n",
       " 'Bioshock Montana AND other borderlands Are coming to the switch bitch count me the fuck in',\n",
       " 'Bioshock AND borderlands coming after your switch bitch count me the fuck in',\n",
       " 'Platinum is the best loot @Borderlands  ',\n",
       " 'Platinum is the best booty @ Borderlands',\n",
       " 'Platinum is the best lot @ Borderlands',\n",
       " 'Platinum has the best loot @Borderlands',\n",
       " 'Platinum Rock is named the best loot @Borderlands',\n",
       " 'Platinum is the best loot the',\n",
       " 'For some reason, my laptop can run Borderlands 3, War thunder and Warframe all on high settings.. . BUT. . The moment I even try to even launch Csgo my entire computer crashes...',\n",
       " 'For some reason my laptop can run Borderlands 3, War Thunder and Warframe at high settings... BUT.. the moment I even try to start Csgo, my entire computer crashes...',\n",
       " 'For some reason, my laptop can run Borderlands 3, War Thunder, and Warframe at high settings.. BUT... The moment I even try to run CSgo, my whole computer breaks down...',\n",
       " 'For some reason, my Firefox can run Borderlands 3, War thunder plus Warframe all on high settings... no.. The moment I even try to even launch Csgo its entire computer crashes...',\n",
       " 'For some reason, my laptop can easily run Borderlands Volume 3, Chaos War thunder and Warframe all currently on high settings... A BUT.. A The moment I even dare try to even launch Csgo to my mind entire computer crashes...',\n",
       " 'For some reason, my software can mount Act 3, War thunder King Thunder all on high speeds... BUT.. The moment I even try to even launch from my entire computer crashes...',\n",
       " 'Jumping on stream early today! Playing some more of the Borderlands DLCs & vibing out to my new playlists I made .  come vibe. Also dropping my quality down to 720p to see if it makes any difference to how well my stream runs on my dumb internet lmao . . . twitch.tv/heyitscece_',\n",
       " \"Start streaming this morning! I'm still playing some of the Borderlands DLCs and vibrating to my new playlists I've made. Come vibe. I'm also lowering my quality to 720p to see if it makes a difference how well my stream runs on my stupid internet Lmao... twitch.tv / heyitscece _\",\n",
       " 'Jon stream early today! Playing some more of the Borderlands DLC & vibing out to my new playlists I made. come vibe. Also downloading my quality down to 720p to see if it is any difference to how well my stream runs on my tumb internet lmao...',\n",
       " 'Jumping on stream early today! Playing some more of the Borderlands DLCs & vibing out to my new playlists I made .  come vibe. Also dropping my quality down to 720p to see if it makes any difference to how well my stream runs on my dumb internet lmao . . . twitch.tv/heyitscece_',\n",
       " 'the Jumping on stream early today! Playing some more of the Borderlands DLCs & vibing out to my new playlists I made .  come vibe. Also dropping my quality down to 720p to see if it makes any difference to how well my stream runs on my dumb internet lmao . . . twitch.tv/heyitscece_',\n",
       " 'why',\n",
       " 'i enter that gunner seat and i fear for my life',\n",
       " 'I step into the trench and fear for my life',\n",
       " 'i enter that gunner seat and i fear for my life',\n",
       " 'i enter that gunner seat and actually fear for my life',\n",
       " 'i then enter in that gunner seat and i fear for my life',\n",
       " 'i enter that gunner seat and i fear for a life',\n",
       " 'fuck it .  pic.twitter.com/Wav1bacr5j',\n",
       " 'Fuck it. pic.twitter.com / Wav1bacr5j',\n",
       " 'fuck it. pic.wikipedia.org / Wav1bacr5j',\n",
       " 'fuck it .  pic.twitter.com/Wav1bacr5j',\n",
       " 'V fuck it .  pic.twitter.com/Wav1bacr5j',\n",
       " 'I',\n",
       " 'Borderlands 2 is so good omg',\n",
       " 'Borderlands 2 is so good omg',\n",
       " 'Borderlands 2 is so good omg',\n",
       " 'Borderlands 2 is now good omg',\n",
       " 'Borderlands 2 is ever so good omg',\n",
       " 'Borderlands 2 is so an omg',\n",
       " 'update 2: i thwarted the bank and now own borderlands 3',\n",
       " 'update 2: I foiled the bank and now own borderlands 3',\n",
       " 'update 2: i threatened the bank and now own borderlands 3',\n",
       " 'update 2: i thwarted the bank who now own borderlands 3',\n",
       " 'update 2 : i thwarted on the late bank trip and now own borderlands 3',\n",
       " 'update 2: i thwarted the bank we now own borderlands 3',\n",
       " \"@Borderlands something seems very broken with M10 drop rates. Constantly dropping less lot than lower mayhem levels. How is this possible with a +2500% loot modifier on. I swear I'm seeing more greens and blues than anything on boss kills.\",\n",
       " '@ Borderlands something seems very broken with M10 drop rates. Constantly falling less than lower chaos levels. How is this possible when a + 2500% loot modifier is on. I swear I see more greens and blues than anything on boss kills.',\n",
       " '@ Borderlands something seems very broken with the M10 drop rate. Constantly falling less than the lower levels of mayhem. As possible with the +% production modifier.',\n",
       " \"@Borderlands something seems kinda broken with M10 drop rates. Constantly pushing less lot than normal mayhem levels. How is this possible with a +2500% loot modifier on. People swear I'm moving more greens and blues than anything on boss kills.\",\n",
       " \"2 @Borderlands something seems very broken with M10 drop recovery rates. Constantly dropping seems less lot than lower mayhem levels. 3 How fast is this possible with a + 2500 % loot modifier next on. 1 I swear I'm actually seeing... more greens and blues now than anything on boss kills.\",\n",
       " \"@Borderlands something seems very broken with M10 drop rates. Constantly dropping less gold from lower amounts here. How is this worked with your +2500% loot modifier on.<unk> swear I'm seeing more greens over blues than anything on boss kills.\",\n",
       " 'I\\'m in this @CBP video. @DHS_Wolf deceptively cut these parts of our report:. . 1⃣@LaikenJordahl saying \"this is ripping Arizona and the rest of the borderlands in two.\". 2⃣USBP admittedly surveilling us on public road after violent clashes with Indigenous activists protesting wall.',\n",
       " 'I\\'m in this @ CBP video. @ DHS _ Wolf misleadingly cut these parts of our report:... 1 @ LaikenJordahl says, \"This is tearing Arizona and the rest of the border country in two.\" 2 USBP admittedly monitors us on public streets after violent clashes with indigenous activists protesting against the wall.',\n",
       " 'I am in this video by @ CBP. @ DHS _ Wolf deceptively cuts out these parts of our report:............................................................................................................................................',\n",
       " 'I\\'m in this @CBP video. Somebody deceptively cut these bits of that report:.. 1⃣@DHS_Wolf says \"this is ripping Arizona and the rest of the borderlands in two.\". 2⃣USBP admittedly surveilling us on public road of fatal clashes with Indigenous activists from wall.',\n",
       " 'I\\'m in fact this entire @CBP video. @DHS_Wolf deceptively cut these parts of our report :.. The [UNK] before saying \" this is ripping into Arizona and... the rest side of the borderlands in two. \". [UNK] admittedly surveilling us on public road after violent clashes began with Indigenous American activists over protesting wall.',\n",
       " 'I\\'m in this protest video. BP deceptively cut out parts of our report:.. BP saying \"this is taking Arizona and the rest of the borderlands in two.\". 2USBP admittedly surveilling photos on public road after violent clashes with Tucson Muslims against our.',\n",
       " 'I got to play Borderlands 2 with the entire polycule tonight. It was fun and magical. The the evening had to end. *sigh*.',\n",
       " 'I was allowed to play Borderlands 2 tonight with all the polyphony. It was funny and magical, the evening had to end. * sigh *.',\n",
       " 'I had to play Borderlands 2 with all the polyslice tonight. It was fun and magical. The evening had to end. * sigh *.',\n",
       " 'I got to enjoy Borderlands 2 with the entire polycule tonight. It was fun, magical. The the evening had better end. *sigh*.',\n",
       " 'So I got to play Borderlands part 2 with the same entire polycule tonight. It was really fun and magical. The The the evening finally had to end. * sigh *.',\n",
       " 'I got to play Jackson 2 with his entire polycule tonight. It was fun completely magical. The happy evening had to end. *sigh*.',\n",
       " 'This is shitty. I get that profit-wise it was less than expected due to a huge budget.',\n",
       " 'This is crappy. I get that it was less profit than expected due to a huge budget.',\n",
       " 'This is crap. I realize that the profit turned out to be lower than expected because of the huge budget.',\n",
       " 'This is shitty. I get that profit-wise it had less than expected due to a busted budget.',\n",
       " 'This is shitty. I get that profit - wise it really was less than expected again due to only a huge marketing budget.',\n",
       " 'This is shitty. I get that profit-wise it was less business expected prior to a huge problem.',\n",
       " 'Borderlands 3 is good so far but Borderlands 2 will always be the fav',\n",
       " 'Borderlands 3 is good so far, but Borderlands 2 will always be the favorite',\n",
       " 'Borderlands 3 is good so far but Borderlands 2 will always be the fav',\n",
       " 'Borderlands 3 is good so far but Borderlands 2 not always be the fav',\n",
       " 'Borderlands 3 is good so far but... Borderlands 2 certainly will always probably be the fav',\n",
       " '<unk> 3 is good so far but Guardian 2 will always be the fav',\n",
       " 'Finally got around to starting Borderlands 3 this weekend, and I love it already. . So well made. . . ',\n",
       " 'Finally I managed to start Borderlands 3 this weekend, and I love it already... So well done...',\n",
       " \"Finally got to the launch of Borderlands 3 this weekend and I'm already enjoying it... So well done...\",\n",
       " 'Finally got around to starting Borderlands 3 this weekend, and I loved it already.. So well loved...',\n",
       " 'Finally got around to officially starting Borderlands 3 this whole weekend, and I love it going already.. So well you made...',\n",
       " 'Finally got around to starting Borderlands 2 this weekend, and I turned it over.. So many made...',\n",
       " 'Slutty mechanic... Im im...  ',\n",
       " 'Slutty mechanic... Im im im im...',\n",
       " 'Slutsky......',\n",
       " 'Slutty mechanic... by im...',\n",
       " 'Slutty old mechanic... Where Im im...',\n",
       " 'Slutty mechanic... and im...',\n",
       " \"What a night! I had heeps of fun playing Borderlands 2! We're getting closer and closer towards the end! . . After the stream we raided @ClocksyDraws ! What a amazing streamer with beautiful art pieces! Give him a follow if you don't already do! . . Goodnight!. .  \",\n",
       " \"What a night! I had loads of fun playing Borderlands 2! We are getting closer and closer to the end!.. After the stream we have raided @ ClocksyDraws! What an amazing streamer with beautiful artwork! Give it a follow-up if you haven't done it yet!.. Good night!.\",\n",
       " \"What a night! I had fun playing Borderlands 2! We're getting closer and closer to the end!... After the stream we drove through @ ClocksyDraws! What an amazing street with beautiful works of art! Let him imitate if you haven't already!.. Good night!..\",\n",
       " \"What a night! I had heeps of fun playing Borderlands 2! We're getting closer and closer towards this end!!. Through the stream we raided @ClocksyDraws! What a amazing streamer for beautiful art pieces! Give it a follow if you don't already do!<unk>. Goodnight!..\",\n",
       " \"But What a night! I had heeps of fun playing Borderlands 2! We'll re getting any closer... and closer just towards the end!.. After the stream we raided @ClocksyDraws! a What brilliant a amazing streamer with beautiful art pieces! Give him for a follow if you can don't already go do!.. Goodnight!..\",\n",
       " \"of a night! I just heeps in fun playing Borderlands 2! We're getting closer and closer towards this end!.. After the stream was raided @ClocksyDraws! What a cool streamer with beautiful art pieces! Give such a follow where we don't already so!.. Goodnight!..\",\n",
       " \"4 favorite games of all time. (thanks @317Slayer and @Drunk_Cookies!). . 1. Halo 2/3 can't pick. 2. Rocket League. 3. Kingdom Hearts 2. 4. Super Mario Bros All Stars (this was probably the first game I ever played). . @Demintele_Sway @DiscoSpider93 @Void_BWungus @LSTesports let’s see em!\",\n",
       " \"4 favorite games of all time. (Thanks @ 317Slayer and @ Drunk _ Cookies!).. 1. Halo 2 / 3 I can't choose. 2. Rocket League. 3. Kingdom Hearts 2. 4. Super Mario Bros All Stars (this was probably the first game I ever played).. @ Demintele _ Sway @ DiscoSpider93 @ Void _ BWungus @ LSTesports let's see em!\",\n",
       " '4 favorite games of all time. (thanks to @ 317Slayer and @ Drunk _ Crises!).............................................................................................................................................................',\n",
       " \"4 favorite games of all time. (thanks Mario and @317Slayer!).. 1. Halo 2/3 can't pick. 2. Rocket League. 3. Kingdom Floor 2. 4. The Mario Bros All Stars (this probably mainly the first game I first played).. @Drunk_Cookies @Demintele_Sway @DiscoSpider93 @Void_BWungus let’s see who!\",\n",
       " \"4 My favorite games of all time. ( thanks @317Slayer and @Drunk_Cookies! ).. 1. Halo Wars 2 / PlayStation 3 can't even pick. 2 2. New Rocket League. 3. Kingdom Hearts 2. 4. Super Mario Bros All Stars ( this was probably the first game I ever even played ).. @Demintele_Sway... @DiscoSpider93 @Void_BWungus @LSTesports If let ’ s really see em!\",\n",
       " \"our favorite games of all time. (thanks @317Slayer many others!).. 1. Halo 2/3 can't beat. 2. Rocket Express. 3. Kingdom Hearts 2. 4. Super Mario Bros All Stars (this was literally the first game me ever played).. @Drunk_Cookies @Demintele_Sway @DiscoSpider93 things people see about!\",\n",
       " 'bl3 using girl on fire for the end credits is why i’m gonna quit borderlands forever',\n",
       " 'bl3 with girl on fire for the end credits is the reason why I will leave Borderlands forever',\n",
       " \"bl3 using girl on fire for the end credits is why i'm gonna quit borderlands forever\",\n",
       " 'bl3 using girl by fire for the end credits reminds why i’m gonna quit borderlands forever',\n",
       " 'bl3 using girl on fire for writing the end credits It is probably why i r ’ m gonna quit borderlands forever',\n",
       " 'bl3 old girl on fire for the end credits knows why i’m gonna watch borderlands forever',\n",
       " \"YOOOOOOOOOO i'm actually so hyped for this movie\",\n",
       " \"YOOOOOOOOOOO I'm really so puffed up for this movie\",\n",
       " \"YOOOOOOOOO i'm actually so hyped for this movie\",\n",
       " \"YOOOOOOOOOO i'm currently so hyped for this movie\",\n",
       " \"YOOOOOOOOOO when i'm not actually so hyped for all this little movie\",\n",
       " \"YOOOOOOOOOO i'm actually so hyped for that guy\",\n",
       " 'Bc all those games are okay this borderlands is the best of its kind',\n",
       " 'Bc all these games are fine, this border country is the best of its kind.',\n",
       " 'BBC: All of these games are good this year and are the best of their kind.',\n",
       " 'Bc all those games are okay this borderlands is probably best of its kind',\n",
       " 'Bc all those games are okay this is borderlands... is the best region of its kind',\n",
       " 'think all those games are okay this borderlands is the best of its good',\n",
       " 'Modern Warfare For $38, Borderlands 3 For $20, And More Great Game Deals (PS4, Xbox One, Switch) unsorted.co/modern-warfare… https://t.co/2n68qoJKhU',\n",
       " 'Modern Warfare for $38, Borderlands 3 for $20 and other great games (PS4, Xbox One, Switch) unsorted.co / modern-warfare... https: / / t.co / 2n68qoJKhU',\n",
       " 'Modern Warfare for $38, Borderlands 3 for $20, And More Great Game Deals (PS4, Xbox One, Swift) unsorteco / modern-warfare...',\n",
       " 'Modern Warfare Not $38, Borderlands For For $20, All More Great Game Gear (PS4, Xbox One, Switch) unsorted.co/modern-warfare… https://t.co/2n68qoJKhU]',\n",
       " 'Modern Warfare 11 For $ 38, Borderlands 3 For $ 20, 200 And More Great Nintendo Game Group Deals ( PS4, Xbox One, Nintendo Switch ) also unsorted. See co / w modern - warfare database … https://t.co/2n68qoJKhU ]',\n",
       " 'Modern Warfare For $38, Borderlands Online For $20, And More Great Good Deals (PS4, Compact Multi, Switch) now.co/modern-warfare... at]',\n",
       " \"The next one is Borderlands: The Handsome Collection. You're welcome\",\n",
       " 'Next is Borderlands: The Handsome Collection. You are welcome.',\n",
       " 'Next up is Borderlands: The Handsome Council.',\n",
       " \"The next one is Borderlands: Best Handsome Collection. You're welcome\",\n",
       " \"The next short one is Borderlands : For The True Handsome Collection. You're welcome\",\n",
       " \"The second one is Borderlands: The Handsome Collection. How're welcome\",\n",
       " 'I disagree. Psycho Krieg and the Fantastic Fustercluck is a wonderful end to the borderlands 3 dlc line that focuses on a fan favorite character and gives long lasting players closure on some very big questions of Krieg’s character and memorable set pieces players interact with.',\n",
       " 'Psycho Krieg and the Fantastic Fustercluck is a wonderful conclusion to the Borderlands 3 dlc line, which focuses on a fan favorite character and offers long-lasting players a conclusion on some very big issues of the character of war and memorable set pieces with which players interact.',\n",
       " '\"Psycho and Ostik Fusterkluck\" is the perfect conclusion to the \"Borderlands 3\" line, which focuses on the fans \"favorite character and gives the players the opportunity to close for a long time some very important questions about\\'s character and the memorable scenery with which the players interact.',\n",
       " 'I disagree. Psycho Krieg vs the Fantastic Fustercluck is a wonderful end game the borderlands 3 dlc line that focuses on a fan favorite character and gives long lasting players closure on some very big questions of primary character and memorable set character players play with.',\n",
       " 'I seriously disagree. The Psycho Krieg and the Very Fantastic Fustercluck story is a wonderful end to the borderlands 3 dlc book line that focuses on a fan favorite character and gives long game lasting players closure on some very big questions of both Krieg ’ s character and the memorable set in pieces players always interact with.',\n",
       " 'not disagree. Klaus Krieg and the Fantastic Fustercluck have a wonderful end to the borderlands 3 dlc line that focuses on this fan favorite character and gives little range satisfying closure on several very big questions of that character and memorable set pieces players interact with.',\n",
       " 'I hate this algorithm',\n",
       " 'I hate this algorithm',\n",
       " 'I Hate This Alma Mater',\n",
       " 'I hate your algorithm',\n",
       " 'I hate this stupid algorithm',\n",
       " 'to hate this algorithm',\n",
       " 'This April patch + mini DLC for Borderlands 3 is amazing. The events, the new difficulty modifiers, the ramp up in gear stats, all combine to make the game fresh yet again.',\n",
       " 'This April patch + mini DLC for Borderlands 3 is amazing, the events, the new difficulty modifiers, the extra gear stats make the game fresh once again.',\n",
       " 'The April patch + mini DLC for Borderlands 3 is amazing.',\n",
       " 'This April patch + mini DLC for Borderlands 3 is amazing. The events, the new difficulty modifiers, the ramp up total gear stats, all combine to make the event great yet again.',\n",
       " 'This latest April patch + mini DLC for Ultimate Borderlands Online 3 is amazing. The story events, the brand new level difficulty modifiers, the ramp to up power in gear stats, all combine to make the game fresh yet again.',\n",
       " 'The April patch + mini DLC for Borderlands 3 is amazing. The events, the new difficulty modifiers, the ramp up<unk> gear stats, and combine a make my game fresh fun again.',\n",
       " \"Hey guys! @Optus appears to have had an accident just as the stream was getting good! As an apology I'll be back tomorrow for MORE borderlands! Once again, big apologies, no idea what happened!  \",\n",
       " \"Hi guys! @ Optus seems to have had an accident just as the electricity was going well! As an excuse I'll be back tomorrow for MORE border countries! Again, big apologies, no idea what happened!\",\n",
       " \"Hey guys! @ Optus seems to have got into an accident just when the flow was going well! As an apology I'll be back tomorrow for MORE border lands! Once again, a big apology, I have no idea what happened!\",\n",
       " 'Hey guys! @Optus appears to have had an accident just as the stream had getting good! As an operator will be reporting tomorrow for MORE borderlands! Once again, big apologies, no idea what happened!',\n",
       " \"Hey guys! @Optus appears to have had an accident just as the blood stream was getting as good! Now As an apology I's ll be back tomorrow for US MORE The borderlands! But Once again, big apologies, though no idea what exactly happened!\",\n",
       " \"<unk> guys! @Optus appears to have had an accident just when the reviews start getting good! After an apology I'll be back tomorrow for MORE borderlands! Once again, my apologies, no idea what exactly!\",\n",
       " 'Big hearty congratulations to my @PlayApex @Respawn @CallofDuty @Borderlands @DestinyTheGame families on your @BAFTAGames nominations!!! Wooohoooo!!!!',\n",
       " 'Congratulations to my @ PlayApex @ Respawn @ CallofDuty @ Borderlands @ DestinyTheGame families on your @ BAFTAGames nominations!!! Wooohoooo!!!',\n",
       " 'Big heartfelt congratulations to my @ PlayApex @ Respawn @ CfDuty @ Borderlands @ DestinyTheGame on your @ BAFTAGames!!! Woooooooo!!!',\n",
       " 'Big special congratulations to my fellow @PlayApex @Respawn @CallofDuty @Borderlands families on your @DestinyTheGame<unk> Wooohoooo!!!!',\n",
       " 'Big night hearty congratulations for to having my @PlayApex campaign @Respawn project @CallofDuty @Borderlands @DestinyTheGame Distinguished families putting on your numerous @BAFTAGames Foundation nominations!!! Wooohoooo!!!!',\n",
       " 'Big Strong congratulations to my<unk> parents @PlayApex @Respawn adoptive families and your various nominations!!! Wooohoooo!!!!',\n",
       " \"Hey borderlands mutuals fam, sorry I've not been interacting as directly and playing games as much as I had been but I love ya'll too so much. Thank you for reminding me fandom isn't just a giant cesspool. Thank you for having such cute characters to look forward to seeing and--\",\n",
       " \"Hey borderlands mutuals fam, sorry, I didn't interact and play games as directly as I was, but I love you too much. Thank you for reminding me that fandom is not just a huge cesspool. Thank you for having such nice characters to look forward to.\",\n",
       " \"Hey borderlands mutuals fam, sorry I've not been interacting as directly and playing games as much as I had but I love ya'll too much. Thank you for reminding me fandom is not just a giant cesspool. Thank you for having such cute characters to look forward to see and--\",\n",
       " \"Hey borderlands mutuals fam, sorry I've not been interacting as directly and playing games as much as I had been but did love ya'll too so much. Thank you for telling me fandom isn't just this giant cesspool. Thank you for posting such amazing content to look forward to seeing and--\",\n",
       " \"Lee Hey borderlands mutuals fam, sorry I've not been interacting as directly and or playing games as fun much as I had really been but I really love ya'll too so much. Thank you for reminding me fandom game isn't just a giant time cesspool. I Thank you for having such cute little characters to look much forward to seeing and - -\",\n",
       " \"great borderlands mutuals fam, sorry I've not been interacting as directly and playing not as hard if I had been but I love ya'll too so much. Thank you for reminding me fandom isn't just a global cesspool. thanks for<unk> having more awesome characters to look forward to seeing and--\",\n",
       " \"Stupid 19-year-olds who write bad poetry need to get away from the computer and talk to real people who don't believe in vampires.\",\n",
       " \"Stupid 19-year-olds who write bad poetry need to get off the computer and talk to real people who don't believe in vampires.\",\n",
       " \"Stupid 19-year-olds who write bad poems need to get away from the computer and talk to real people who don't believe in omnipotence.\",\n",
       " \"Stupid 19-year-olds who write bad poetry need to get away behind the computer and talk like real parents who don't believe in vampires.\",\n",
       " \"Stupid 19 - year - olds who write bad poetry need you to first get clean away from using the computer and really talk to real people who don't believe deeply in vampires.\",\n",
       " \"Stupid 19-year-olds and write terrible poetry need to get away from the computer and report to real people they don't believe in vampires.\",\n",
       " 'Borderlands 3: Guns, Love, And Tentacles: 10 Best New Legendary Weapons, Ranked ift.tt/2Xj2rmu  ',\n",
       " 'Borderlands 3: Weapons, Love and Tentacles: 10 best new legendary weapons, rank ift.tt / 2Xj2rmu',\n",
       " 'Borderlands 3: Get, Love, And Tentacles: 10 Best New Legendary Weapons, Ranked i.tt / 2Xj2r.com',\n",
       " 'Borderlands 2018: Guns, Love, And Tentacles: 10 Great New Legendary Weapons, Ranked live.tt/2Xj2rmu',\n",
       " '10 Borderlands 3 : Black Guns, Blind Love, Words And Tentacles : 2010 10 Best New Legendary Assault Weapons, Ranked ift. tt / 2Xj2rmu',\n",
       " 'Borderlands With Guns, Metal, And Tentacles: 10 En<unk> Secret Weapons, Ranked ift.tt/2Xj2rmu',\n",
       " 'best borderlands character :y pic.twitter.com/XR9P3UrsqG',\n",
       " 'Best border character: y pic.twitter.com / XR9P3UrsqG',\n",
       " 'best borderlands character: y pic.wikipedia.org / XR9P3UrsqG',\n",
       " 'best borderlands character :y pic.twitter.com/XR9P3UrsqG',\n",
       " 'see best borderlands character :y pic.twitter.com/XR9P3UrsqG',\n",
       " '<unk>',\n",
       " 'My 4 fave games are Minecraft. Borderlands 2.Forza horizon 4. Lego star wars',\n",
       " 'My 4 favorite games are Minecraft. Borderlands 2.Forza Horizon 4. Lego Star Wars',\n",
       " 'My 4 favorite games are Minecraft. Borderlands 2.Forza h4. Lego star wars',\n",
       " 'My 4 fave games are Minecraft. Borderlands 2.Forza Tournament 4. Lego star wars',\n",
       " '2 My favourite 4 fave games are Minecraft. Borderlands EP 2. The Forza horizon 4. Lego star wars',\n",
       " 'screen 4 fave titles are Minecraft. Borderlands 2.Forza horizon 4. Lego star 4',\n",
       " 'I feel like I accomplished something here even though in reality all I did was suffer and die . . .  ',\n",
       " 'I have the feeling that I have achieved something here, when in reality I have only suffered and died...',\n",
       " \"I feel like I've spilled something here, when in fact all I've done is suffer and die...\",\n",
       " 'I feel like I accomplished something here even though in reality all I felt was fuck and die...',\n",
       " 'I feel like I accomplished something here even though now in my reality seemingly all I did here was suffer and die...',\n",
       " 'I feel like I accomplished something beautiful and though in reality most I did was suffer and die...',\n",
       " 'Messed up downloading the new borderlands 3 dlc yet again. Assume the update was the patch and dlc, but like the previous dlc even with the season pass it has to be manually added from ps store and downloaded',\n",
       " 'Suppose the update was the patch and the dlc, but like the previous dlc it has to be added and downloaded manually from the ps store even with the season card.',\n",
       " 'Suppose that the update was a patch and a patch, but, as in the previous case, even with a subscription, it has to be manually added from the store and downloaded',\n",
       " 'Messed up downloading the new borderlands 3 dlc yet again. Assume the update is the patch and dlc, but like the previous one even with the season pass this has to be immediately added from ps store and downloaded',\n",
       " 'Messed up downloading the new borderlands 3 dlc update yet again. Assume the update never was the patch and dlc, but feels like doing the whole previous dlc even with getting the final season to pass it now has to be manually added later from ps store and downloaded',\n",
       " 'Messed up downloading completely new borderlands as dlc yet again. Assume the update was the patch and dlc, but like any 3 dlc even with the conditional pass patch has eventually be manually added from ps store and made',\n",
       " 'Hey @Borderlands i cant access the new dlc. I can start the mission but then nothing. I have my game on epic',\n",
       " 'Hey @ Borderlands I can not access the new dlc. I can start the mission, but then nothing. I put my game on epic',\n",
       " 'Hey @ Borderlands i cant access the new Focus. I can start the mission but then nothing. I have my game on epic',\n",
       " 'Hey @Borderlands u cant access the console dlc. I can start the mission but then nothing. I have my game on epic',\n",
       " 'Hey @Borderlands i cant access me the four new dlc. I still can start the mission quickly but then nothing. now I have hit my game on epic',\n",
       " 'played @Borderlands i have access the new dlc. I can open the mission but then nothing. You have my game on epic',\n",
       " 'I’ve done nothing but play borderlands 3 for the last 13 hours and I’m still not done. I STARTED AT CHAPTER 8 AND IM ONLY ON 20. this game is unnecessarily long.',\n",
       " \"I haven't done anything other than play Borderlands 3 for the last 13 hours and I'm still not done. I START AT CHAPTER 8 and ONLY ON THE 20th. This game is unnecessarily long.\",\n",
       " \"I've been playing Borderlands 3 for the last 13 hours and still haven't finished.\",\n",
       " 'I’ve done nothing but play borderlands 3 shit the last 13 hours and I’m still not done. I STOP AT CHAPTER 7 AND IM DEAD ON 20. this game is unnecessarily long.',\n",
       " 'I I ’ ve done nothing but to play borderlands 3 times for the last 13 hours already and I ’ m still not even done. I STARTED AT CHAPTER 8 AND IM ONLY ON February 20. Like this game is just unnecessarily damned long.',\n",
       " 'I’ve done nothing but play borderlands 3 for the last 13 years that I’m still fucking moving. I STARTED AT CHAPTER 8 AND IM ONLY ON YOUR. this letter is unnecessarily long.',\n",
       " 'Pretty Happy with this! I made these sub badges for my friend @4eyeGaming for his twitch! Go check him out! He has started streaming Borderlands 3 recently but he is a variety streamer! twitch.tv/4eyegaming .  https://t.co/BoRwkMSzRs',\n",
       " \"Pretty happy with it! I made these sub-badges for my friend @ 4eyeGaming for his Twitch! Check it out! He recently started streaming Borderlands 3, but he's a streamer of diversity! twitch.tv / 4eyegaming. https: / / t.co / BoRwkMSzRs\",\n",
       " 'Pretty Happy with this! I made these subbids for my friend @ 4eGaming for his Human Rights! Go check it out! He has streaming Borderlands 3 recently but he is a variety streets!!!!!!!!!!!!!!!!!!!!!!!!!!!!!!!!!!!!!!!!!!!!!!!!!!!!!!!!!!!!!!!!!!!!!!!!!!!!!!!!!!!!!!!!!!!!!!!!!!!!!',\n",
       " 'Pretty Happy with this! I made these sub badges for my friend RhandlerR for his twitch! Go check him out! He has started streaming Borderlands 3 recently but he is a variety streamer! twitch.tv/4eyegaming .  RhttpR]',\n",
       " 'i Pretty Happy with this! I made these sub badges for my friend RhandlerR for his twitch! Go check him out! He has started streaming Borderlands 3 recently but he is a variety streamer! twitch.tv/4eyegaming .  RhttpR]',\n",
       " 'is',\n",
       " \"I am here... With Samsung that is full of homeworks. Away from ps4 and Samsung that won't play fort. And have 1700... Want psycho. Will get him. I am borderlands and Overwatch fan and he is Psycho and Junkratt\",\n",
       " \"I'm here... with Samsung, that's full of homework. Away from PS4 and Samsung that won't continue to play. And have 1700... want Psycho. Will get him. I'm a frontier commuter and Overwatch fan and he's Psycho and Junkratt\",\n",
       " \"I'm here... With Samsung, which is full of home affairs. Away from F4 and Samsung that won't play fort. And have 1700... Want psycho. Want him. I am borderlands and Overwatch fan and he is Psycho and Jratt\",\n",
       " 'I am here... With Samsung that is full of homeworks. Away from ps4 and Samsung that we play fort. And have 1700... Want psycho. Will get paid. I am borderlands and Overwatch s and he is Psycho... Awesome',\n",
       " \"Now I am happy here... With Samsung that is full lots of homeworks. Be Away from ps4 and of Samsung that is won't the play fort. And have the 1700... Want psycho. Will get him. I am borderlands and Overwatch and fan and he said is Psycho and Junkratt\",\n",
       " \"I am here... and Samsung like is full fucking homeworks. Phone from ps4 and Samsung that has't play fort. will have 1700... Want psycho. Will have me. I am borderlands and Overwatch fan and this is Psycho and Junkratt\",\n",
       " \"As amazing as this is.... It's been out for MONTHS.... . Please.. . PLEASE.. . Tell us about the Ascension Bluff DOOR.. . It's been A YEAR.\",\n",
       " 's been out for months.... Please... PLEASE... Tell us about the Ascension Bluff Door... It has been a YEAR.',\n",
       " 'As amazing as it may be... It was for MONTHS... Please... PLEASE... Tell us about the Ascension of the Bluff Door... It has been a YEAR.',\n",
       " \"As amazing of this is.... This been out for MONTHS....... PLEASE... Tell us about the Ascension Bluff DOOR... It's been A YEAR.\",\n",
       " \"As extremely amazing that as this is.... 3 It's been out preparing for some MONTHS..... Please... We PLEASE... Tell us about the Ascension Base Bluff Station DOOR... 2 It's really been A YEAR.\",\n",
       " \"As amazing saying That is.... It's also happening for MONTHS.....<unk>... PLEASE... Tell us about the Last Bluff here... It's FOR A YEAR.\",\n",
       " \"I'm so damn sorry for the stupid short stream, i don't feel up to streaming today. I just have this stupid headache that won't fuck off. . . We sent the love over to @Quietachvment who's playing some Borderlands 3. . . Keep tabs on socials, I'll probably see you Thursday!\",\n",
       " \"I'm so damn sorry for the stupid short stream, I don't feel like streaming today. I just have these stupid headaches that can't be damned... We sent love to @ Quietachvment who plays some Borderlands 3... Keep the social media registers, I'll probably see you on Thursday!\",\n",
       " \"I'm so damn sorry for the stupid short stream, I don't feel like streaming today. I just have this stupid head that won't come off... We sent our love to @ Quicktachement who plays Borderlands 3... Keep tabs on social media, I'll probably see you on Thursday!\",\n",
       " \"I'm so seriously sorry for the record short stream, i don't feel up to streaming today. I just fighting this stupid headache that won't fuck off... We sent the love over to @Quietachvment who's playing great Borderlands 3... Definitely active on socials, I'll probably see you Thursday!\",\n",
       " \"I'm so damn sorry for the stupid short stream, but i don't feel up to streaming today. and I just have this stupid headache that it won'the t fuck right off... I We sent the love over to @Quietachvment and who's playing on some chick Borderlands 3... Keep tabs on socials, I'll probably see with you Thursday!\",\n",
       " \"I'm so damn adverse to the whole short delay, i don't step up to streaming actually. I just have this stupid headache that doesn't fuck off... Chris sent the blanket over to Lauren who's playing some Borderlands 3... Keep tabs on socials, I'll probably see you Thursday!\",\n",
       " 'Perfect casting for Lilith, most anticipated film',\n",
       " 'Perfect casting for Lilith, the most anticipated film',\n",
       " 'Great casting for \"Lilit,\" the most anticipated film',\n",
       " 'Perfect casting powers Lilith, most anticipated film',\n",
       " 'Perfect casting for first Lilith, most anticipated film',\n",
       " 'Perfect Time for Lilith, most anticipated film',\n",
       " '@GearboxOfficial fix Borderlands 3 achievements. This is unreal that you guys can’t figure this out.',\n",
       " \"@ GearboxOfficial Fix Borderlands 3 Achievements. This is unreal that you can't figure it out.\",\n",
       " \"@ GearboxOfficial fix the achievements of Borderlands 3. It's unreal that you guys can't understand this.\",\n",
       " '@GearboxOfficial fix Borderlands 3 achievements. This is unreal that you guys dont figure it out.',\n",
       " '@GearboxOfficial fix Borderlands 3 achievements. com This is all unreal bad that you guys can ’ t figure about this out.',\n",
       " '@GearboxOfficial fix Borderlands 3 achievements. IT is unreal that you guys will check this out.',\n",
       " \"@GearboxOfficial  @Borderlands I love(d) this game. I've spent 325hrs beating the game twice and farming like crazy to get the weapons and anoints that I want. Then you decide that the way that I'm playing wasn't the way you had intended so you weaken my favorite anoint...\",\n",
       " '@ GearboxOfficial @ Borderlands I love (d) this game. I spent 325 hours beating the game twice and working like crazy to get the weapons and ointments I want. Then you decide that the way I play was not what you intended, so you weaken my favorite album...',\n",
       " '@ GearboxOfficial @ Borderlands I love (d) this game. I spent 325hrs beating the game twice and farming like crazy to get the weapons and money I want.',\n",
       " \"@GearboxOfficial  @Borderlands fucking love(d) this game. I've spent 325hrs beating the game twice and farming like crazy to get the weapons and anoints that I want. Only you discover that one way that I'm playing wasn't the way you had wanted so I weaken my favorite anoint...\",\n",
       " \"@GearboxOfficial @Borderlands I absolutely love ( d ) this game. I've spent my 325hrs beating the game twice and farming like crazy to get the weapons and those anoints there that I want. Then you decide that me the very way that I'W m playing wasn't the way those you had intended so you you totally weaken my favorite anoint...\",\n",
       " \"@GearboxOfficial @Borderlands I love(d) this game. But've spent 325hrs beating your game twice and farming like crazy to get which way those anoints that I want. And you say that that way that I'm playing wasn't which way it had intended so you weaken my favorite anoint...\",\n",
       " 'Yasss!!! Co-Stream with @jimmysgotya  twitch.tv/jimmysgotya',\n",
       " 'Yasss!!! Co-stream with @ jimmysgotya twitch.tv / jimmysgotya',\n",
       " 'Yasss!!! Co-Stream with @ jimmysgotya-tch.tv / jimmysgotya',\n",
       " 'Yasss!!! Co-Stream with RhandlerR  twitch.tv/jimmysgotya',\n",
       " '2 Yasss!!! Co-Stream with RhandlerR  twitch.tv/jimmysgotya',\n",
       " 'there',\n",
       " 'Borderlands 3 - Krieg Meets Maya (Psycho Krieg and the Fantastic Fustercluck DLC). youtube.com/watch?v=o4JfCk….  ',\n",
       " 'Borderlands 3 - Krieg Meets Maya (Psycho Krieg and the Fantastic Fustercluck DLC). youtube.com / watch? v = o4JfCk....',\n",
       " 'Borderlands 3 - Meets Maya (Psycho). youtube.com / watch? v = o4JfCk....',\n",
       " 'Borderlands Premiere - Krieg Meets Maya and Krieg and the Fantastic Beast DLC). youtube.com/watch?v=o4JfCk….',\n",
       " 'Borderlands 3 - Jesse Krieg Music Meets Princess Maya ( performing Psycho Krieg solo and featuring the Fantastic Duo Fustercluck DLC ). youtube. com / channel watch? id v = o4JfCk ….',\n",
       " 'Borderlands Beyond - Scott Meets Me (Psycho Wave vs the Fantastic Fustercluck 5). Buy.com/watch?v=o4JfCk....',\n",
       " \"Idk how I'm gonna do this online class shit. . I was trying to play some borderlands today, and my xbox has been on for like 5 hours with my controller disconnected while I browse Instagram and try and plan out my next semester of classes. . . Imagine if this was a class...\",\n",
       " \"I tried to play a few Borderlands today, and my Xbox has been on for about 5 hours with my controller turned off while I'm surfing Instagram and trying to plan my next semester... Imagine it was a class...\",\n",
       " 'I was trying to play some borderline games today and my xbox was turned on for about 5 hours with the controller turned off while I was browsing Instagram and trying to plan my next semester... Imagine if it was a class...',\n",
       " \"Idk how I'm gonna do this online class shit.. I am trying to play some borderlands today, and my xbox + been on for like 5 hours with my controller disconnected while I browse Instagram and Netflix and plan out my next semester of classes... because if this took a class...\",\n",
       " \"Idk how I'ya m gonna do this online class shit.. I was trying desperately to play some borderlands today, and my xbox has barely been on for like 5 ½ hours but with my touch controller disconnected while here I browse Instagram and try harder and plan out having my next real semester of classes... Imagine if this was a class...\",\n",
       " \"<unk> but I'm supposed do my online class shit.. Here was trying to play some borderlands today, now my xbox has been on for like 5 PM with my controller disconnected as I browse Instagram and try and try out this next semester of classes... Imagine if this was a class...\",\n",
       " 'Just officiated a gay wedding in Borderlands 3, feeling powerful rn.',\n",
       " 'I just celebrated a gay wedding in Borderlands 3 and felt powerful.',\n",
       " 'Just played a gay wedding in Borderlands 3, feeling powerful.',\n",
       " 'Just officiated a gay wedding in Borderlands 3, the powerful rn.',\n",
       " 'Just officiated a gay fan wedding in WWE Borderlands Episode 3, feeling powerful rn.',\n",
       " 'once officiated a gay wedding in Borderlands 3, as powerful rn.',\n",
       " 'Loving the new DLC!!!. @Borderlands @DuvalMagic @GearboxOfficial pic.twitter.com/PKZJxlGXLj',\n",
       " 'I love the new DLC!!!. @ Borderlands @ DuvalMagic @ GearboxOfficial pic.twitter.com / PKZJxlGXLj',\n",
       " 'Catching the new DLC!!!. @ Borderlands @ DuvalMagic @ GearboxOfficial pic.fm / PKZJxlGXLj',\n",
       " 'Loving the new DLC!!!. RhandlerR RhandlerR RhandlerR pic.twitter.com/PKZJxlGXLj',\n",
       " 'F Loving the new DLC!!!. RhandlerR RhandlerR RhandlerR pic.twitter.com/PKZJxlGXLj',\n",
       " 'one',\n",
       " 'does fall damage canonically exist in the borderlands universe',\n",
       " 'Fall Damage Is Canonically in the Borderland Universe',\n",
       " 'whether the damage to the fall is canonical in the frontier universe',\n",
       " 'does fall damage canonically exist in the borderlands?)',\n",
       " 'it does fall damage we canonically exist in the borderlands universe',\n",
       " 'does fall damage canonically occur in the borderlands universe',\n",
       " \"Lil preview of a Maya drawing I've been chipping away at! Been sinking a lot of time into Borderlands in my off hours lately pic.twitter.com/1nYE0S5cMe\",\n",
       " \"Lil preview of a Mayan drawing I've been working on! Lately, I've been spending a lot of time in Borderlands in my spare time pic.twitter.com / 1nYE0S5cMe\",\n",
       " \"Lil preview of a Maya drawing I've been chiming away at! Been sinking a lot of time into Borderlands in my offer hours late pic.facebook.com / 1nYE0S5cMe\",\n",
       " \"Lil preview of a Maya drawing I've been chipping away at! Been sinking a lot of time into Borderlands in my off hours lately pic.twitter.com/1nYE0S5cMe\",\n",
       " \"C Lil preview of a Maya drawing I've been chipping away at! Been sinking a lot of time into Borderlands in my off hours lately pic.twitter.com/1nYE0S5cMe\",\n",
       " 'can',\n",
       " 'A nerf gun painted to look like a  ',\n",
       " 'A Nerf pistol painted to look like a gun',\n",
       " 'A pistol designed to look like a gun',\n",
       " 'A nerf gun painted to appear like a',\n",
       " 'A nerf gun painted to look less like a',\n",
       " 'A nerf gun invented to look like a',\n",
       " 'I am so exhausted from work this week so probably no borderlands stream today i’m SO SORRY . ',\n",
       " \"I'm so exhausted from work this week that I probably won't be able to flow anymore and I'm SO SORRY.\",\n",
       " \"I'm so tired of working this week that there's probably no border flow today, I'm SO SORRY.\",\n",
       " 'I am so exhausted from work this week being probably no borderlands stream today i’m SO stoked.',\n",
       " '30 I am now so exhausted from work just this week or so probably no borderlands stream today i I ’ m SO SORRY.',\n",
       " 'I am still exhausted from work this Saturday so probably no borderlands stream and i’m SO SORRY.',\n",
       " 'Have u played borderlands 3? Pretty fun imo. Anyways whateves pic.twitter.com/Uoute82ADo',\n",
       " 'Have u played Borderlands 3? Pretty fun imo. Anyway whateves pic.twitter.com / Uoute82ADo',\n",
       " 'Have u played borderlands 3? Pretty fun imo. Anyways whatsoever pic.facebook.com / Uoute82ADo',\n",
       " 'Have u played borderlands 3? Pretty fun imo. Anyways whateves pic.twitter.com/Uoute82ADo',\n",
       " 'TV Have u played borderlands 3? Pretty fun imo. Anyways whateves pic.twitter.com/Uoute82ADo',\n",
       " 'of',\n",
       " 'Tales from the\\xa0Borderlands swaggiedeals.com/product/tales-…',\n",
       " 'Stories from the border swaggiedeals.com / product / tales-...',\n",
       " 'Tales from the Borderlands swagdeals.com / product / tales-...',\n",
       " 'Tales over the\\xa0Borderlands Factory.com/product/tales-…',\n",
       " 'Tales from Behind the Borderlands at swaggiedeals. com / www product / tales - …',\n",
       " 'looking at the Kitchen swaggiedeals.com/product/tales-...',\n",
       " '@Joltzdude139 Hey Joltz, im a big fan and seeing you play through borderlands 2 specifically you have a really strong understanding of every gun, part, and prefix. Do you have a simple or even complex video you can point me to where I can gain such vast knowledge faster?',\n",
       " \"@ Joltzdude139 Hey Joltz, I'm a big fan and when I see you play through Borderlands 2, you have a really strong understanding of every weapon, part and prefix. Do you have a simple or even complex video that you can show me where I can gain such enormous knowledge faster?\",\n",
       " \"@ Jolddude139 Hey Joltz, I'm a big fan and seeing you play across the border 2 in particular, you have a really strong understanding of every rifle, detail and console.\",\n",
       " '@Joltzdude139 Hey Joltz, im a big fan and seeing you play through XCOM 2 specifically you have a really strong understanding of every gun, part, and prefix. Do ya have a simple or even youtube video you can point me to which I can have such vast knowledge faster?',\n",
       " '@Joltzdude139 Hey Joltz, im a big fan and seeing you as play through borderlands 2 specifically you have a really strong scientific understanding of every gun, part, and prefix. V Do know you have just a particularly simple or even complex video you can point me to as where I imagine can gain such this vast knowledge faster?',\n",
       " '@Joltzdude139 v Joltz, im a big fan out seeing you from our borderlands here specifically you have a mighty strong understanding of every gun, part, and prefix. Do you own a simple or even complex video you can point me to where I can impart such vast knowledge on?',\n",
       " \"Guns, Love, and Tentacles is out now, and here are 5 reasons we're excited to  \",\n",
       " \"Guns, Love, and Tentacles is out now, and here are 5 reasons why we're excited\",\n",
       " \"GB, Love, and Tentacles is out now, and here are 5 reasons we're excited to\",\n",
       " 'Guns, Love, and Sex is out now, and here are 5 reasons not excited to',\n",
       " \"Guns, Love, Speed and Tentacles is out now, and here are with 5 main reasons we'D re excited to\",\n",
       " \"Guns, Love, and Music is up now, and here are four reasons we're excited to\",\n",
       " 'Just started playing Borderlands 3: guns, love, and tentacles only to hear the voice of half of my favorite youtube channel @GameGrumps . Hell yeah @egoraptor , forever apart of one of the best @GearboxOfficial games as a creepy ass character.',\n",
       " 'I just started playing Borderlands 3: weapons, love and tentacles, just to hear the voice of half of my favorite channel @ GameGrumps. Hell yeah @ egoraptor, forever separated from one of the best @ GearboxOfficial games as a creepy ass character.',\n",
       " 'Just started playing Borderlands 3: Weapons, Love, and Tentacles just to hear the voice of half of my favorite YouTube channel @ GameGrup.',\n",
       " 'Just started playing Borderlands 3: guns, love, and tentacles wanting to lose the voices of half of another favorite youtube channel @GameGrumps. Hell yeah @egoraptor, forever apart of one of the best @GearboxOfficial games as a creepy ass cartoon.',\n",
       " 'He Just started off playing it Borderlands Season 3 : with guns, love, and tentacles only later to hear the voice of my half of my favorite youtube channel @GameGrumps. Hell yeah @egoraptor, forever apart because of one of the best @GearboxOfficial with games plays as a creepy ass character.',\n",
       " 'Just started playing Borderlands 3: guns, love, bad tentacles again and hear a voice of half of an old music channel @GameGrumps. Hell yeah @egoraptor, the apart of one of the best @GearboxOfficial games as a creepy ass demon.',\n",
       " 'I know it doesnt look like much but borderlands is my favorite game!!! Thank you @SmilingOcean_ pic.twitter.com/X3dyPtNALD',\n",
       " \"I know it doesn't look like much, but Borderlands is my favorite game!!! Thank you @ SmilingOcean _ pic.twitter.com / X3dyPtNALD\",\n",
       " \"I know it doesn't look like much but borderlands is my favorite game!!! Thank you @ SmilingOcean _ pic.it / X3dyPtNALD\",\n",
       " 'I know it doesnt look like much but borderlands is my favorite game!!! Thank you RhandlerR pic.twitter.com/X3dyPtNALD',\n",
       " 'N I know it doesnt look like much but borderlands is my favorite game!!! Thank you RhandlerR pic.twitter.com/X3dyPtNALD',\n",
       " 'It',\n",
       " '. :: Ah yes. A very very old image of demon Lottie from when they were still a borderlands oc pic.twitter.com/PuW3XjWuro',\n",
       " '.:: Ah yes. A very old picture of Demon Lottie from the time when they were still a border country oc pic.twitter.com / PuW3XjWuro',\n",
       " \":: Ah yes. A very old image of Lottie's demon from when they were still border guards.\",\n",
       " '. :: Ah yes. A very very old image of demon Lottie from when they were still a borderlands oc pic.twitter.com/PuW3XjWuro',\n",
       " 'IBM . :: Ah yes. A very very old image of demon Lottie from when they were still a borderlands oc pic.twitter.com/PuW3XjWuro',\n",
       " 'on',\n",
       " 'My most despised area in Borderlands 1 is now the Rust Commons area. . So many sidequests',\n",
       " 'My most despised area in Borderlands 1 is now the Rust Commons area.',\n",
       " 'My favourite area in Borderlands 1 right now is the Rust Commons... So many sidewalks',\n",
       " 'My most despised area in Borderlands 1 is still the Great Commons area.. So many sidequests',\n",
       " '2007 My most despised land area left in Borderlands 1 is now the Lee Rust Commons area.. So many sidequests',\n",
       " 'My most despised block in Borderlands 1 is now the Kensington Commons area.. So many bad',\n",
       " 'Holy fuck???!!??!',\n",
       " 'Holy shit???!!??!',\n",
       " 'Holy fuck???!!?!?!',\n",
       " 'Holy Week!',\n",
       " 'The Holy shit fuck???!!??!',\n",
       " 'Holy Sick??!',\n",
       " \"We've been playing a lot of Borderlands 2 on  . . Also gotta love this stunning cosplay by Kunaii Cosplay! instagram.com/xxkunaiixx/ https://t.co/GiWX2aqtUy\",\n",
       " 'We played a lot of Borderlands 2... Also I must love this stunning cosplay from Kunaii Cosplay! instagram.com / xxkunaiixx / https: / / t.co / GiWX2aqtUy',\n",
       " \"We've been playing a lot of Borderlands 2 on.. Also global love this stunning cosplay by Kunaii Cosplay! instagram.com / xxxaiii.com / https: / / Fenco / GiWX2aqtUy\",\n",
       " \"We've been playing a lot of Borderlands 2 on .. Also gotta save this monkey cosplay on Fox Cosplay! instagram.com/xxkunaiixx/ https://t.co/GiWX2aqtUy]\",\n",
       " \"We've been over playing a lot thinking of Borderlands using 2 tracks on.. x Also your gotta love read this stunning little cosplay by Kunaii Cosplay! to instagram. com / xxkunaiixx / https://t.co/GiWX2aqtUy ]\",\n",
       " \"We've been playing this blast of Borderlands music on.. Also gotta see this face cosplay • Kunaii Jackson! instagram.com/xxkunaiixx/ https://t.co/GiWX2aqtUy]\",\n",
       " 'Great tips from out gorilla master @Triple_Gz1. TYVM for this graphic dude!',\n",
       " 'Great tips from our Gorilla Master @ Triple _ Gz1. TYVM for this graphic guy!',\n",
       " 'Great tips from out gorilla master @ Triple _ Gz1. TYVM for this graphic dude!',\n",
       " 'Great tips from out gorilla master m. TYVM for this graphic dude!',\n",
       " 'Great tips from burnt out gorilla master DJ @Triple_Gz1. TYVM for taking this graphic romance dude!',\n",
       " 'Great tips from out personal trainer @Triple_Gz1. TYVM for this graphic dude!',\n",
       " '@Borderlands @DuvalMagic @GearboxOfficial I just wanted to say a huge thank you to all of you who worked and are working on borderlands and gearbox you’ve been crushing it enven more than before covid knowing how it must have been difficult so THANK YOU. ',\n",
       " '@ Borderlands @ DuvalMagic @ GearboxOfficial I just wanted to say a huge thank you to all of you who have worked and continue to work on Borderlands and Gears, you crushed it more than ever before because you know how difficult it must have been, so THANK YOU.',\n",
       " '@ Borderlands @ DuvalMagic @ GearboxOfficial I just wanted to say a huge thank you to all of you who have worked and are working on borderlands and gearbox you were broken more than ever before.',\n",
       " '@Borderlands @DuvalMagic … I just wanted too say a huge thank you for all of them who worked and are working on borderlands and gearbox you’ve been crushing it enven more than before covid knowing how it must have been difficult so THANK IT.',\n",
       " '@Borderlands... @DuvalMagic... @GearboxOfficial I just wanted to say saying a good huge thank you to all those of you who worked and are working on borderlands wheels and gearbox you ’ ve been crushing it enven more than months before covid knowing now how it all must have been real difficult so THANK YOU.',\n",
       " 'of @Borderlands @DuvalMagic I just gotta go offer one huge thank of to all of you who worked and are working on borderlands and gearbox you’ve been crushing here enven more than before totally understand how it must have been difficult so THANK YOU.',\n",
       " 'Trying out  ',\n",
       " 'Trying to get out',\n",
       " 'Trying it',\n",
       " 'Trying it out',\n",
       " 'you out',\n",
       " 'Today’s Best Game Deals: FIFA 20 $18, Borderlands Handsome $15, more –\\xa09to5Toys uk.googlehits.com/as-we-speaks-f…',\n",
       " 'The best gaming deals today: FIFA 20 $18, Borderlands Handsome $15, more - 9to5Toys uk.googlehits.com / as-we-speak-f...',\n",
       " 'The best deals so far: FIFA 20 $18, Borderlands Handsome $15, more - 9to5Toys uk.googfcits.com / as-we-speak-f...',\n",
       " 'Today’s Best Game Movies: FIFA 13 $18, Borderlands 8 $15, more –\\xa09to5Toys 10.googlehits.com/as-we-speaks-f…',\n",
       " 'Today ’ ′ s Show Best Game Winner Deals : FIFA 20 $ 18, against Borderlands 2 Handsome $ 15, more as – 9to5Toys 2016 uk. Retrieved googlehits. com / sales as - we - speaks - f …',\n",
       " 'your Best FIFA Deals: FIFA 20 1, The Handsome 5, Play – via uk.googlehits.com/as-we-speaks-f...',\n",
       " '@Ki11ersix My homage to a friend, a warrior of Borderlands 3 yesterday that rose to the heavens (Pandora) ... that is resting in a great friend with the Lord God ... here just miss the lots ... thank you. pic.twitter.com/so0Wdbh7A8',\n",
       " '@ Ki11ersix My tribute to a friend, a warrior from Borderlands 3 yesterday who ascended to heaven (Pandora)... who rests in a great friend with the Lord God... here you just miss the lot. pic.twitter.com / so0Wdbh7A8',\n",
       " '@ Ki11ersix My tribute to a friend, the warrior from Borderlands 3 yesterday who rose to the heavyweights (Pandora)... who is a great friend of God... here just miss the lot... thank you.',\n",
       " 'RhandlerR My homage to a friend, a warrior of Borderlands 3 yesterday that rose to the heavens (Pandora) ... that is resting in a great friend with the Lord God ... here just miss the lots ... thank you. pic.twitter.com/so0Wdbh7A8',\n",
       " 'CD RhandlerR My homage to a friend, a warrior of Borderlands 3 yesterday that rose to the heavens (Pandora) ... that is resting in a great friend with the Lord God ... here just miss the lots ... thank you. pic.twitter.com/so0Wdbh7A8',\n",
       " 'it',\n",
       " \"i kno borderlands handled zer0 being nonbinary kinda shittily with them being most likely nonhuman (?) to start and then forgetting their pronouns in tftbl but i still rlly like zer0 and am happy to have them :-) same with fl4k i love them too and they're both playable mcs so\",\n",
       " 'i kno borderlands handling zer0 being nonbinary kind shitty with they are most likely inhuman (?) to start and then forget their pronouns in tftbl but i rlly like zer0 and me happy to have them: -) same with fl4k I love them too and they are both playable mcs so',\n",
       " \"i kno borderlands managed zer0 being nonbinary kinda shittily with them being most likely non-human (?) to start and then forget their pronobel in t, but i still rlly like zer0 and am happy to have them: -) same with fl4k i love them too and they're both playable mso\",\n",
       " \"i kno borderlands handled zer0 be nonbinary kinda easier than them being most definitely nonhuman (?) to start and then forgetting their pronouns in tftbl but i still rlly like zer0 and am happy to have them, same with fl4k i read them too and they're both playable mcs so\",\n",
       " \"i kno The borderlands handled zer0 only being nonbinary but kinda i shittily with them being too most likely non nonhuman (? ) to start and then usually forgetting their pronouns in tftbl but i still rlly like zer0 and g am happy to have them : - ) t same with fl4k i love into them too and they're both playable mcs so\",\n",
       " \"i kno c handled zer0 being bad kinda shittily with me being most likely nonhuman (?) to start and then forgetting their worth in tftbl but i still rlly like zer0 and was trying to enjoy them :-) same with fl4k i liked them well and they're both playable mcs the\",\n",
       " 'Top 4 favourite games you say? 🤔. . Sea of Thieves . Bioshock . SSX3 . Battlefield 1. . What about you @ChloeSauras @ChrisLawis @ForsakenRose679 @tw1ztedpr1ncess',\n",
       " 'Top 4 favorite games you say?... Sea of Thieves. Bioshock. SSX3. Battlefield 1.. What about you @ ChloeSauras @ ChrisLawis @ ForsakenRose679 @ tw1ztedpr1ncess',\n",
       " \"Top 4 favorite games you're talking about?................................................................................................................................................................................\",\n",
       " 'Top 4 favourite games you say? 🤔.. Sea of Thieves … Bioshock.. SSX3. Battlefield 1. 1 What about you @ChloeSauras @ChrisLawis Really @ForsakenRose679',\n",
       " '... Top all 4 favourite adventure games you say? are [UNK].. Sea of Thieves. Bioshock. SSX3. Battlefield 1.. In What happens about when you want @ChloeSauras @ChrisLawis 0 @ForsakenRose679 @tw1ztedpr1ncess',\n",
       " 'My 4 favourite episodes who say? <unk>.. Sea of Thieves. Bioshock. SSX3. and 1.. What about you @ChloeSauras What @ChrisLawis I',\n",
       " 'I miss borderlands tumblr so much- so many of those accounts I used to love were deactivated- never to return to the fandom </3',\n",
       " \"I miss Borderland's Tumblr so much - so many of those accounts I used to love have been deactivated - that I will never return to the fandom. < / 3\",\n",
       " 'I miss the border so much that many of the accounts I loved have been deactivated to never return to the fundom; / 3',\n",
       " 'I miss borderlands tumblr so much- so one of those accounts I used to love were deactivated- but really return to the fandom </3',\n",
       " 'Since I would miss... borderlands tumblr so much - so many of those current accounts things I used to love were deactivated - never to return again to visit the fandom < / 3',\n",
       " 'I closed borderlands tumblr so much- so many of those accounts who used to love were buried- never could return to normal fandom </3',\n",
       " ' . .  .  .  .  .  ',\n",
       " '........',\n",
       " '..  \\xa0 . . .',\n",
       " '......',\n",
       " '......',\n",
       " 'IM SO FUCKING EXCITED',\n",
       " 'IN THE SO FICKING EXCELLENT',\n",
       " 'The Proton-M launch vehicle that disappeared from the face of the Earth',\n",
       " 'IM SO FUCKING IN',\n",
       " 'IM AT SO GO FUCKING EXCITED',\n",
       " 'IM SO WHAT EXCITED',\n",
       " 'Well this is certainly a development.',\n",
       " \"Well, that's certainly a development.\",\n",
       " \"Well, that's development, of course.\",\n",
       " 'Well this is certainly a question.',\n",
       " 'Well... this is certainly a development.',\n",
       " 'Well this is not a development.',\n",
       " \"GameSpot: Borderlands 3's DLC Dismisses Major Problems With Lovecraft's Work ift.tt/39qpeiS\",\n",
       " \"GameSpot: Borderlands 3's DLC rejects major issues with Lovecraft's work ift.tt / 39qpeiS\",\n",
       " \"GameSpot: DLC's Borderlands 3 fires protagonists over Lovecraft i.tt / 39qS\",\n",
       " \"GameSpot: Borderlands 3's DLC Dismisses Major Problems - Lovecraft's Dream ift.tt/39qpeiS\",\n",
       " \"Official GameSpot : Lost Borderlands 3's DLC Dismisses Major Problems Running With Lovecraft's Underground Work as ift. 0 tt / 39qpeiS\",\n",
       " \"GameSpot: Fantasy III's Music has Major Problems With Lovecraft's Work ift.tt/39qpeiS\",\n",
       " '@UnitedHayze Glad to see my efforts have been noticed; a 4-way Borderlands Co-Op would be awesome! pic.twitter.com/vcgNcpMAvu',\n",
       " '@ UnitedHayze Glad to see my efforts were noticed; a 4-way Borderlands Co-Op would be awesome! pic.twitter.com / vcgNcpMAvu',\n",
       " '@ UnitedHayze to have my efforts noticed; 4-way Borderlands Co-Op would be amazing! pic.facebook.com / vcgNcpMavu',\n",
       " 'RhandlerR Glad to see my efforts have been noticed; a 4-way Borderlands Co-Op would be awesome! pic.twitter.com/vcgNcpMAvu',\n",
       " '2014 RhandlerR Glad to see my efforts have been noticed; a 4-way Borderlands Co-Op would be awesome! pic.twitter.com/vcgNcpMAvu',\n",
       " 'of',\n",
       " \"Super tempted to get a simple black heart tattoo right above my tit like Ellie from Borderlands lol. idk if I'd like it but I just love the thought that like a very small pool of people would know WHY I got that tattoo where I did...cause simple black hearts are pretty common lol\",\n",
       " 'Super trying to get a simple black heart tattoo right over my tits, like Ellie from Borderlands lol. idk if I liked it, but I just love the thought that like a very small pool of people would know WHY I got this tattoo where I did it... because simple black hearts are pretty common lol',\n",
       " 'Super temptation to get a simple black heart tattoo right above my tit like Ellie from Borderlands lol. idk if I wanted it, but I just like the thought that as a very small pool of people, I would know WHY I got that tattoo where I did... because simple black hearts are quite common lol',\n",
       " \"Super tempted to get a simple black heart tattoo right above my shoulder like Ellie from Borderlands 1. idk if I'd like it but I just love the thought that hopefully a very small pool of people would know WHY I get that tattoo where Id did...cause simple black hearts are pretty common lol\",\n",
       " \"Super tempted is to get a simple black heart with tattoo right above my tit tattoo like Ellie from Borderlands lol. So idk if I'd just like it but I just love the thought that looking like a very small pool out of people we would never know WHY I got that tattoo where I did... to cause simple black hearts are pretty common lol\",\n",
       " \"been tempted to get black simple black soul tattoo right where my heart like Ellie from Borderlands lol. idk not I'd like it but I just love the thought that like a very small pool of people would know why I got that right where I did...cause simple white ones are pretty common lol\",\n",
       " '4 player local Borderlands 3. Such a great weekend.',\n",
       " '4 player local Borderlands 3. Such a great weekend.',\n",
       " '4 local Borderlands players 3. Such a big weekend.',\n",
       " '4 More local Borderlands 3. Such a great weekend.',\n",
       " '4 2 player local play Borderlands 3. Such a great weekend.',\n",
       " '4 player local Borderlands shop. Such a great weekend.',\n",
       " 'Sly @Borderlands haha. The mission “The Demon in the Dark”. Mines of Moria. Nice.',\n",
       " 'Sly @ Borderlands haha. The mission \"The demon in the dark.\" Moria mines. Nice.',\n",
       " 'Sly @ Borderlands haha. The mission \"The Demon in the Dark.\" Mines of Moria. Nice.',\n",
       " 'Sly @Borderlands haha. The mission “The Demon at Full Dark”. Mines of Moria. Nice.',\n",
       " 'Sly G @Borderlands haha. The mission is “ The High Demon District in the Dark ”. the Mines of Moria. Nice.',\n",
       " 'Sly @Borderlands haha. Great mission “The Key in the Jar. Mines Del Moria. Nice.',\n",
       " 'playing borderlands 3 before 2 was a mistake bc now i know who dies ):. also now when i replay 3 im gonna be A MESS at the end...',\n",
       " 'To play Borderlands 3 before 2 was a mistake bc now I know who dies): even now if I replay 3, I will end up A MESS...',\n",
       " 'playing borderlands 3 before 2 was a mistake bc now i know who dies):. also now when i replay 3 im gonna be A MESS at the end...',\n",
       " 'playing borderlands 3 before 2 was a mistake bc now i know who dies ):. also being that i replay 3 im gonna get A MESS at the end...',\n",
       " 'playing borderlands because 3 before 2 was a final mistake bc now all i know who dies ) :. also now when won i play replay 3 im be gonna be A G MESS at the end...',\n",
       " 'playing those 3 vs 2 was a struggle bc now i know who dies ):. also because when i replay that im gonna be A MESS at the beginning...',\n",
       " \"Who runs borderlands 3 on xbox that game is so Dope I'm tryna run squads mann\",\n",
       " \"Who runs Borderlands 3 on xbox that game is so dope I'm tryna run squad man\",\n",
       " 'Who runs Borderlands 3 on xbox that game so dope I trina run commands.',\n",
       " \"Who runs borderlands 3 on xbox this shit is so Dope I'm tryna run squads mann\",\n",
       " \"Who never runs borderlands 3 on xbox that video game This is going so Dope I'm tryna run squads mann\",\n",
       " \"Who buy borderlands for 2 xbox that game is so Dope I'm tryna run squads mann\",\n",
       " \"Morning~!!. I'm split on playing PSO2 or Borderlands 3 for todays stream. 🤔. Either way a stream today is happening and I'm excited to hang out nonetheless!!. Hope your weekend was well. .  :3 pic.twitter.com/X0CrvuK8Pq\",\n",
       " \"Tomorrow ~!!. I'm split when it comes to playing PSO2 or Borderlands 3 for today's stream. Either way, a stream is underway today and I'm still looking forward to hanging out!!. Hope your weekend was good...: 3 pic.twitter.com / X0CrvuK8Pq\",\n",
       " \"Morning ~!!. I'm split on playing PS2 or Borderlands 3 for today stream.\",\n",
       " \"Morning~!!. I'm split on playing PSO2 or Borderlands 3 for todays stream. 🤔. Either way a stream today is happening and I'm excited to hang out nonetheless!!. Hope your weekend was well. .  :3 pic.twitter.com/X0CrvuK8Pq\",\n",
       " \"1 Morning~!!. I'm split on playing PSO2 or Borderlands 3 for todays stream. 🤔. Either way a stream today is happening and I'm excited to hang out nonetheless!!. Hope your weekend was well. .  :3 pic.twitter.com/X0CrvuK8Pq\",\n",
       " 'we',\n",
       " '‘Borderlands 3’ Turned Its Mayhem Modifiers Back On, And That Was A Mistake ie.jobwx.eu/Rg2956',\n",
       " '\"Borderlands 3\" turned on its mayhem modifiers again, and that was a mistake ie.jobwx.eu / Rg2956',\n",
       " '\"Borderlands 3\" turned on the Mayhem modifiers, and it was a mistake.',\n",
       " '‘Borderlands 3’ Putting Its Mayhem Modifiers Back On, And That Sounds Huge Mistake ie.jobwx.eu/Rg2956',\n",
       " '‘ Borderlands 3 The ’ Turned Its Skin Mayhem Best Modifiers Come Back On, And Me That Was Only A Mistake ie. free jobwx. eu / Rg2956',\n",
       " 'May 3’ Turned Its Mayhem War Back On, And That Enter the Issue ie.jobwx.eu/Rg2956',\n",
       " \"Actually. I think borderlands 3 might be my 5th fave. But it wouldn't be stand alone.... But god do I love and enjoy bl3!!!\",\n",
       " \"Actually. I think Borderlands 3 could be my fifth favorite, but it wouldn't be alone.... But God, I love bl3 and enjoy it!!!\",\n",
       " 'Actually. I think borderlands 3 might be my 5th fave. But it would not be stand alone.... but god do I love and enjoy bl3!!!',\n",
       " \"Actually. I think borderlands 3 might be a 5th fave. But it wouldn't be stand alone.... But god do I EVER so enjoy bl3!!!\",\n",
       " \"Actually. I rather think 13 borderlands 3 might be my 5th fave. 3 But then it certainly wouldn't be stand alone.... But still god do I really love and enjoy bl3!!!\",\n",
       " \"Actually. I think borderlands 3 might be still 5th fave. Though it wouldn't be stand top.... But god do I still in enjoy bl3!!!\",\n",
       " \"So I'm probably going to log off social media for the day to buckle down and take care of all my online class work for the week. I don't want to have any work to do before Borderlands 3 hits steam. So I'll be back, when I'm done with all that junk! . \",\n",
       " \"So I'll probably log off from social media for the day to buckle up and do all my online classwork for the week. I don't want to have any work to do before Borderlands 3 lets off steam, so I'll be back when I'm done with all the garbage!.\",\n",
       " \"So I'll probably get off social media for a day to buckle up and take care of all my online activities during the week. I don't want to have any work before Borderlands 3 gets steamed up. So I'll be back when I'm done with all this rubbish!.\",\n",
       " \"So I'm really going to log off social net for the day to buckle down and take inventory of all my online class assignments during the week. I don't want to have any work to do before Borderlands 3 hits steam. So I'll be back, when I'm finished with all that junk!.\",\n",
       " \"So I'm now probably going to completely log off social media for the day to buckle down and then take care of all even my normal online class work for during the week. Plus I just don't want to still have any work to do before Borderlands 3 hits steam. So I'll be back, when ever I'm done with all that junk!.\",\n",
       " \"So I'm probably going to log down social media for the day & buckle down before take off of all my video class work for the week. I don't want to have any work to do before my 3 hits steam. Anyway I'll be back, when I'm satisfied with my real junk!.\",\n",
       " 'My h0rny friend is also a fantastic artist 🥰🥰🥰',\n",
       " 'My h0rny friend is also a fantastic artist',\n",
       " 'My Herney friend is also a fantastic artist.',\n",
       " 'My same friend is also a fantastic artist :)',\n",
       " 'My h0rny friend who is also a wonderful fantastic artist [UNK]',\n",
       " 'My h0rny friend though also a successful artist <unk>',\n",
       " 'Borderlands 3 Chapter 1 youtu.be/0SKu6Vr4iXU via @YouTube Come Watch as I dive into a awesome Adventure :) Lets do this :D. @VxsSociety @SmallStreamersC',\n",
       " \"Borderlands 3 Chapter 1 youtu.be / 0SKu6Vr4iXU via @ YouTube Come Watch me dive into a fantastic adventure:) Let's do this: D. @ VxsSociety @ SmallStreamersC\",\n",
       " 'Borderlands 3 Chapter 1 youtu.be / 0SKu6Vr4iXU via @ YouTube Come Watch as I dive into a awesome course:) Lets do this: D. @ VxsSociety @ SmallStreamsC',\n",
       " 'Borderlands 3 D 1 competition.be/0SKu6Vr4iXU via @YouTube Come Watch as I dive explain a awesome idea :) Lets do this :D. @VxsSociety @SmallStreamersC',\n",
       " 'Lost Borderlands Part 3 Chapter 1 youtu. de be / w 0SKu6Vr4iXU via @YouTube Come Watch as I wanna dive into such a awesome Secret Adventure : ) 3 Lets You do this : D. be @VxsSociety @SmallStreamersC',\n",
       " 'Borderlands 3 Chapter 1 Download.be/0SKu6Vr4iXU or @YouTube then Watch whilst I dive into a Virtual Adventure :) Lets do without :D. 8 and',\n",
       " \"Friendly reminder that Borderlands 3's soundtrack is an absolute banger and this song is particular is probably my favorite gag in the entire game. . youtu.be/nFwAmB-tluI\",\n",
       " 'Friendly reminder that the soundtrack of Borderlands 3 is an absolute banger and this song is maybe my favorite gag in the whole game.. youtu.be / nFwAmB-tluI',\n",
       " 'A friendly reminder that the track Borderlands 3 is an absolute banger and this song is special is probably my favorite gag of the whole game... youtu.be / nFwAmB-tluI',\n",
       " \"Friendly reminder that Borderlands 3's soundtrack is an absolute classic and this song is particular is probably my favorite theme of the main game.. youtu.be/nFwAmB-tluI\",\n",
       " \"Friendly reminder is that Borderlands Part 3's soundtrack is an absolute banger and this song is quite particular and is probably my only favorite movie gag in the fucking entire game.. youtu. be / see nFwAmB - html tluI\",\n",
       " \"Friendly Dog<unk> all 3's audio is an absolute mess and any song is by is probably my favorite gag in the entire game.. youtu.be/nFwAmB-tluI\",\n",
       " 'A Noob Trys To Make A Salvador Build Borderlands 2 twitch.tv/lucasc_123',\n",
       " 'A Noob tries to make A Salvador Build Borderlands 2 twitch.tv / lucasc _ 123',\n",
       " 'Nub tries to force El Salvador to build border lands 2: tch.tv / lucasc _ 123',\n",
       " 'A Noob Trys To Make A Salvador Build Borderlands 2 twitch.tv/lucasc_123',\n",
       " 'from A Noob Trys To Make A Salvador Build Borderlands 2 twitch.tv/lucasc_123',\n",
       " 'the',\n",
       " 'Eli Roth is directing the ‘Borderlands’ movie engadget.com/2020/02/20/eli…',\n",
       " 'Eli Roth directs \"Borderlands\" engadget.com / 2020 / 02 / 20 / eli...',\n",
       " \"Elie to direct 'The Frontier' film\",\n",
       " 'Eli Roth is directing the Paramount picture engadget.com/2020/02/20/eli…',\n",
       " 'Jonathan Eli Roth is directing All the ‘ Borderlands ’ movie from engadget. com / 2020 / 02 / 4 20 / 2015 eli …',\n",
       " '<unk><unk> was directing its ‘Borderlands’ movie engadget.com/2020/02/20/eli...',\n",
       " 'Beat DLC2 main story line.  Loved it!  Thank you!. @DuvalMagic @Borderlands . @GearboxOfficial',\n",
       " 'Beat DLC2 main story line. Loved it! Thank you!. @ DuvalMagic @ Borderlands. @ GearboxOfficial',\n",
       " 'Beat DLC2 main story line. Loved it! Thank you!. @ DuvalMagic @ Borderlands. @ GearboxOfficial',\n",
       " 'Beat DLC2 The story line.  Loved it!  Thank you!. @DuvalMagic @Borderlands | @GearboxOfficial',\n",
       " 'Heart Beat DLC2 main story first line. Loved it! I Thank you!. 3 @DuvalMagic 2 @Borderlands. @GearboxOfficial',\n",
       " 'a DLC2 short story item. Loved it! Thank F!. @DuvalMagic @Borderlands. @GearboxOfficial',\n",
       " 'If Borderlands and Fallout had a child, it would be @OuterWorlds Love the game though! Terrific work 🤞. ',\n",
       " 'If Borderlands and Fallout had a child, it would be @ OuterWorlds Love the game though! Great work.',\n",
       " 'If Borderlands and Fallout had a child, it would be @ OWorlds Love the game though! Terrible work.',\n",
       " 'If Borderlands and Fallout had a child, it should be @OuterWorlds Love the company though! Terrific work 🤞.',\n",
       " 'If Borderlands and Fallout 5 had a third child, it would be @OuterWorlds for Love loves the game though! Terrific to work [UNK].',\n",
       " 'If Borderlands and RPG had a cliche, it would be simply Love the game<unk>! Terrific work <unk>.',\n",
       " 'me: omg I miss Rhys soooo much I would do anything to see him. . borderlands 3: . . me: pic.twitter.com/c3wvkyrBge',\n",
       " 'me: omg I miss Rhys soooo much, I would do anything to see him.. borderlands 3:.. me: pic.twitter.com / c3wvkyrBge',\n",
       " 'me: omg I miss Rhys soooo much I would do anything to see him... borderlands 3:. me: pic.facebook.com / c3wvkyrBge',\n",
       " 'me: omg I miss Rhys soooo much I would do anything to see him. . borderlands 3: . . me: pic.twitter.com/c3wvkyrBge',\n",
       " '5 me: omg I miss Rhys soooo much I would do anything to see him. . borderlands 3: . . me: pic.twitter.com/c3wvkyrBge',\n",
       " 'to',\n",
       " \"Watching You Kalloori Perfect Situation Mystic River Tampa Prescott Dak Johnson Marcus Lego Harry Potter: Years 5-7 Mille Lacs Leonard Kawhi Ivan Rakitic Chilton Dan Glazer Jeff Carter Julio Garcia Algemarin L Borderlands 2 I'll Always Love You. . loveok.store/best-online-sh… https://t.co/AP6H8thDzT\",\n",
       " \"Lego Harry Potter: Years 5-7 Mille Lacs Leonard Kawhi Ivan Rakitic Chilton Dan Glazer Jeff Carter Julio Garcia Algemarin L Borderlands 2 I'll Always Love You... loveok.store / best-online-sh... https: / / t.co / AP6H8thDzT\",\n",
       " \"Watching You Khori Perfect Mystic River Tampa Prescott Dak Johnson Marcus Lego Harry Potter: Years 5-7 Mille Lacs Leonard Kawhi Ivan Rakitic Chilton Dan Haser Jeff Carter Julio Garcia Algemarin L Borderlands 2 I'll Always Love You... loveok.store / best-online-sh...\",\n",
       " 'Watching You Kalloori Perfect Situation Mystic River Tampa Prescott Xavier Johnson Marcus Spears Harry Potter: Years 5-7 Mille Lacs Leonard Kawhi Ivan Rakitic Thunder Jay Glazer Jeff Carter Julio Garcia Algemarin L Borderlands 2 Just Even Love You. Where loveok.store/best-online-sh… https://t.co/AP6H8thDzT]',\n",
       " \"Watching You Jimmy Kalloori Perfect Situation Mystic River Tampa Prescott Dak Johnson Marcus Lego Harry Potter : Years 5 - 7 Luc Mille 3 Lacs Leonard Kawhi Ivan Rakitic Chilton Dan Glazer III Jeff Carter Julio Luis Garcia Algemarin L Borderlands 2... I'll... Always Love You.. The loveok. store / major best - of online - sh … https://t.co/AP6H8thDzT ]\",\n",
       " \"Watching You Kalloori Perfect Rainbow Mystic River Tampa Prescott Dak Johnson Avon Lego Harry Phillips: Years 14-7 Mille Lacs Leonard Fisher Ivan Rakitic Chilton Silver Glazer Jeff Carter Julio Garcia Algemarin 5 Borderlands 2 How'll Always Have If.. loveok.store/best-online-sh... https://t.co/AP6H8thDzT]\",\n",
       " 'Capitalism on the Borderlands',\n",
       " 'Capitalism at the Border',\n",
       " 'Surrender on the Border',\n",
       " 'Capitalism on Political Borderlands',\n",
       " 'Capitalism on the European Borderlands',\n",
       " 'Capitalism through the Borderlands',\n",
       " \"This explains why there's a lack of fast travel stations in Guns, Love, and Tentacles.  Ridiculous.\",\n",
       " 'This explains why there are no fast travel destinations in Guns, Love and Tentacles. Ridiculous.',\n",
       " 'This explains the lack of high-speed tram stations in Gothenburg, Ljuby and Tentacle.',\n",
       " \"This explains why there's a market of fast travel stations for Guns, Love, and Tentacles.  Ridiculous.\",\n",
       " \"This explains why there's also a lack of regular fast travel stations in Guns, I Love, Love and Alternative Tentacles. Ridiculous.\",\n",
       " \"basically explains why there's a lack of fast travel stations in Story, Love, & War. Ridiculous.\",\n",
       " 'Enjoying my Borderlands 3 Tubbz out in the sun  @NumskullDesigns  ',\n",
       " 'Enjoying my Borderlands 3 Tubbz in the sun @ NumskullDesigns',\n",
       " 'Enjoying my Borderlands 3 Tubbz in the sun @ NumskDesigns',\n",
       " 'Enjoying my Borderlands 3 Tubbz<unk> in the sun  @NumskullDesigns',\n",
       " 'Enjoying my Winter Borderlands at 3 Tubbz out in the golden sun @NumskullDesigns',\n",
       " 'to the Borderlands 3 Tubbz out in the sun @NumskullDesigns',\n",
       " 'Completed  ',\n",
       " 'Rejected',\n",
       " 'Completed',\n",
       " 'Series Completed',\n",
       " 'we',\n",
       " 'Wine drunk playing the new Borderlands . . . Goddess life is a fun life.. . .  findom',\n",
       " 'Wine drunk while playing the new Borderlands... The life of the goddess is a fun life..... findom',\n",
       " 'Wine is drunk while playing the new Borderlands... The life of Goddess is a fun life... findom',\n",
       " 'Wine drunk on the video Borderlands... Goddess life is a fun life....  findom',\n",
       " 'Wine are drunk playing the new Borderlands... Goddess and life there is a much fun life.... findom',\n",
       " 'Wine drunk playing the new music... our life as a mortal life.... findom',\n",
       " 'So, fun annoying thing @MeatballMissus and I just learned: There are two different versions of Borderlands: Game of the Year Edition on Steam, and they are not compatible with each other for online play.',\n",
       " 'So, fun with the annoying thing @ MeatballMissus and I just learned: There are two different versions of Borderlands: Game of the Year Edition on Steam, and they are not compatible for online games.',\n",
       " 'So the funny thing @ MeatballMissus and I have just learned is that there are two different versions of Borderlands: Game of the Year and on Steam, and they are not comparable to each other for online gaming.',\n",
       " 'So, fun annoying thing @MeatballMissus and PC just learned: There are always different versions of Borderlands: Game of the Year Edition on Steam, and they are always compatible via each other for online play.',\n",
       " 'So, the fun annoying thing @MeatballMissus and it I just learned : There are two substantially different versions of Borderlands : Game of the Future Year Complete Edition on the Steam, and even they are not compatible with each country other for online play.',\n",
       " 'little, fun annoying thing @MeatballMissus and others just learned: There are two different versions of Mario: Game for the Year Edition across Steam, and they are not compatible with each other for online purchases.',\n",
       " '@Borderlands. Can we please get a big hot fix. I did a whole factory reset and a system wipe. But everytime i play borderlands to farm it crashes',\n",
       " \"@ Borderlands. Can we get a big fix please? I've reset an entire factory and deleted a system, but every time I play Borderlands to build a farm it crashes.\",\n",
       " '@ Borderlands. Can we please get a big hot fix. I did a whole factory reset and a system to wipe out. But whenever i play borderlands to farm it crashes',\n",
       " '@Borderlands. could we please get a big hot fix. I gave an whole factory reset and a system wipe. But everytime i play borderlands to farm it crashes',\n",
       " '@Borderlands. Can we just please get him a big hot fix. I did just a routine whole factory reset report and a system wipe. But not everytime i gotta play borderlands to farm it crashes',\n",
       " '@Borderlands. Can we please have a big hot fix. I did a basic factory check and a system refresh. But everytime i play borderlands to farm system crashes',\n",
       " '@Borderlands echo cast doesnt work for me even though it says it is on. it doesnt show anything on twitch about it being on except for when you refresh it says its loading it.',\n",
       " \"@ Borderlands echo cast doesn't work for me, though it says it is on. it doesn't point anything at twitching about that it's turned on, except when you update it, it says it's loading.\",\n",
       " \"@ Borderlands echo cast doesn't work for me even though it says it's on.\",\n",
       " '@Borderlands echo cast doesnt work for me even though it says whatever is on. it doesnt show anything on twitch about something being on except for when you refresh it says its loading correctly.',\n",
       " '@Borderlands echo cast back doesnt work for me even though it says it is on. it doesnt actually show anything on twitch about touching it or being on paper except not for when you write refresh it says something its loading it.',\n",
       " '@Borderlands echo cast doesnt work for me even though it says it is on. it doesnt show normally on twitch of it being open except if when you hit which says its loading it.',\n",
       " 'Even tho i out leveled this grenade it’s still destroying everything in my path. Check it out: youtu.be/wpdGr4PH8Lo  ',\n",
       " 'Even though I leveled this grenade, it still destroys everything that gets in my way. See also: youtu.be / wpdGr4PH8Lo',\n",
       " \"Even tho i out leveled this grenade it's still destroying everything in my path. Check it out: youtu.be / wpdGr4PH8Lo\",\n",
       " 'Even tho i out leveled this monster it’s still changing everything along my path. Check it out: youtu.be/wpdGr4PH8Lo',\n",
       " '2 Even tho i out o leveled this lone grenade it was ’ that s still destroying everything in my path. c Check it that out : youtu. be / wpdGr4PH8Lo',\n",
       " 'Even tho i successfully leveled this grenade it’s seriously hurting everything in my path. slug it out: from.be/wpdGr4PH8Lo',\n",
       " 'Also bought Borderlands on the switch!! love that series and cant wait to play on the go!',\n",
       " \"Also purchased Borderlands on the switch!! Love this series and can't wait to play along the way!\",\n",
       " \"Also bought Borderlands on the switch!! love this series and can't wait to play on the go!\",\n",
       " 'Also bought Borderlands on the switch!! love that series and cant wait to play on to go!',\n",
       " 'And Also bought Borderlands on the switch!! We love it that series and cant wait to play on the second go!',\n",
       " 'Also bought Borderlands but the switch!! love that series and cant look to play on the next!',\n",
       " \"@Borderlands I can't play borderlands 3 on my Xbox without it crashing can you fix this pls\",\n",
       " \"@ Borderlands I can't play Borderlands 3 on my Xbox without it crashing.\",\n",
       " \"@ Borderlands I can't play borderlands 3 on my Xbox without it crashing can you fix this pls\",\n",
       " \"@Borderlands<unk> can't play borderlands 3 on my tablet without it crashing can you fix this pls\",\n",
       " \"A @Borderlands I can't play borderlands 3 on my Xbox without it completely crashing so can you maybe fix this pls\",\n",
       " \"man I cannot't play borderlands 3 on our Xbox without it crashing can you fix this pls\",\n",
       " 'My dumbass was like “what borderlands mod is this” because that mf looks like claptrap',\n",
       " 'My dumbass was like \"What borderlands mod is this,\" because this MF looks like a rattlesnake.',\n",
       " 'My dumbass was like \"what borderlands mod is this\" because that mf looks like claptrap',\n",
       " 'My dumbass was like “what fun mod is this” because every mf looks like claptrap',\n",
       " '... My dumbass was like “ asking what borderlands mod is at this time ” because that mf looks like claptrap',\n",
       " 'My dumbass was like the borderlands mod is this” because that mf looks to being',\n",
       " \"I really like Randy Pitchford, he's been nothing but helpful to me. I hope this is all a mix up.\",\n",
       " \"I really like Randy Pitchford, he just helped me. I hope it's all a mix-up.\",\n",
       " \"I really like Randy Pitchford, he's helped me a lot.\",\n",
       " \"I really like Randy Pitchford, he's been nothing but great to me. I realize this is all a mix up.\",\n",
       " \"I really like Randy Pitchford, but he's been nothing but fucking helpful to get me. Like I hope this is this all a mix up.\",\n",
       " \"I really like Randy Pitchford, and's been nothing but helpful through me. I hope things is all a mix with.\",\n",
       " \"1. Warframe. 2. Dead by Daylight. 3. Overwatch. 4. Minecraft. 5. Uhhh idk honestly... Fer.al or Primal Carnage: Extinction??. And I would add Spore as well, I can't let go of the sentiment and nostalgia. . Not tagging anyone, if u want to do this feel free to\",\n",
       " '1. Warframe. 2. Dead by Daylight. 3. Overwatch. 4. Minecraft. 5. Uhhh idk honestly... Fer.al or Primal Carnage: Extinction??. And I would add spore, I can not let go of the feeling and nostalgia.. No one mark, if you want to do that, feel free.',\n",
       " \"1. Warframe. 2. Dead by Daylight. 3. Overwatch. 4. Minecraft. 5. Uhhh idk honestly... Fer.al or Primal Carnage: Extinction??. And I would add Spore as well, I can't let off the sentiment and nostalgia.. Not tagging anyone, if u want to do this feel free to\",\n",
       " \"1. Zelda. 2. Dead by Daylight. 3. Overwatch. 4. Minecraft. 5. Uhhh idk honestly... Fer.al or Primal Carnage: Extinction??. - I would recommend Spore as well, Ill can't let out of the sentiment / nostalgia.. Not tagging anyone, if u want i do this feel free to\",\n",
       " \"1. Warframe. 2. Dead by Daylight. 3. Overwatch. 4. Minecraft. 5. Uhhh idk honestly... Fer. al or No Primal Carnage : Extinction??. And I would now add Spore as well, But I can't let you go hope of bringing the powerful sentiment and inspire nostalgia.. Not tagging anyone, see if u want to do this feel free visit to\",\n",
       " \"1. Warframe. 2. Dead Before Daylight. 3. Overwatch. 4. Minecraft. 5. Uhhh idk honestly... Fer.al and Primal Cow: Extinction??. And I would add Spore as well, I can't let go with the tears and nostalgia.. Not going on, do u want to do else feel happy to\",\n",
       " 'So last night.... Borderlands 3 first playthrough complete. Every level in Peggle 2 now unlocked for party night. . But forget all that, I wanna say a huge thank you to my community for all the support they have shown me, it’s insane! And last night was unbelievable so I want (1/2)',\n",
       " \"So last night.... Borderlands 3 first playthrough. Every level in Peggle 2 is now unlocked for the party.. But forget all that, I want to thank my community for all the support they showed me, it's insane! And last night was incredible, so I want (1 / 2)\",\n",
       " \"So last night.... The first game of Borderlands 3 is over. Every level in Peggle 2 is now unlocked for the party night... But forget about it, I want to say a huge thank you to my community for all the support they gave me, it's just amazing!\",\n",
       " 'So last night.... Borderlands 3 first playthrough complete. Every level in Peggle has now unlocked for tomorrow night.. But forget all that, I wanna say a huge thank yo to my friends after all the support they have shown me, it’s insane! And last night was unbelievable so I think (1/2)',\n",
       " 'So last night.... after Borderlands Chapter 3 first Xbox playthrough complete. Every level found in Peggle 2 now unlocked for party night.. But maybe forget all that, because I wanna say a big huge thank you to support my community for all the emotional support they have shown me, it ’ s absolutely insane! And last night was unbelievable so I want ( 1 / 2 )',\n",
       " 'So last evening.... complete 3 game playthrough complete. Every level in Peggle 2 now unlocked again tomorrow night.. and forget all this, I wanna say a huge thank you to my community in such the support they have shown me, it’s insane! And last night was full so I want (1/2)',\n",
       " 'I went to bed at 4am. 5 hours before that at 9pm i was farming Graveward. It is now almost 4pm and i went to farm Graveward again and on my first kill i tried to loot the vault but it was already looted! @Borderlands @Ki11ersix what is wrong with my game it is the broken.',\n",
       " \"I went to bed at 4am. 5 hours earlier at 9pm I was at Graveward Farm. It's almost 4pm now and I went back to Graveward Farm and on my first kill I tried to loot the safe but it was already looted! @ Borderlands @ Ki11ersix What's wrong with my game is the broken one.\",\n",
       " 'I went to bed at 4 am. 5 hours before that at 9 pm i was farming Graveward. It is now almost 4 pm and i went to farm Graveward again and on my first kill i tried to lot the vault but it was already rooted! @ Borderlands @ Ki11ersix what is wrong with my game it is the broken.',\n",
       " 'I went to bed at 4am. 5 days before that at night m was farming Graveward. It is now almost 4pm and i went to farm Graveward again and on my new kill i tried to loot the vault but it was already full! @Borderlands @Ki11ersix what is wrong with my game it we the broken.',\n",
       " 'I went to bed at 4am. 5 hours before that at 9pm i was farming Graveward. It is now almost 4pm and i have went to farm near Graveward again and decided on scoring my first kill i tried not to loot the vault home but it somehow was not already looted! 6 @Borderlands @Ki11ersix what is wrong matters with my game it is the broken.',\n",
       " 'I went to bed at 12. 5 hours before bed at 9pm i were farming Graveward. It came still nearly 4pm and i tried to farm Graveward again and on my third kill i tried to loot the vault that it was already looted! @Borderlands @Ki11ersix what really wrong with my game it is the broken.',\n",
       " '.  LIVE NOW!. . I feel like I have not streamed in forever probably because I have, sorry about that, more Borderlands for a bit with @eyesofness . . . Borderlands. .  twitch.tv/niam https://t.co/t7RJPcJ7DT',\n",
       " \". LIVE NOW!.. I feel like I haven't poured in forever, probably because, sorry, I have more Borderlands for a bit with @ eyesofness... Borderlands.. twitch.tv / niam https: / / t.co / t7RJPcJ7DT\",\n",
       " '. LIVE NOW!.. I feel like I have not streamed in vehicle problem because I have, sorry about that, more Borderlands for a bit with @ eyesofness.... Borderlands...',\n",
       " '.  LIVE NOW!. . I feel like I have not streamed in forever probably because I have, sorry about that, more Borderlands for a bit with RhandlerR . . . Borderlands. .  twitch.tv/niam RhttpR]',\n",
       " 'the .  LIVE NOW!. . I feel like I have not streamed in forever probably because I have, sorry about that, more Borderlands for a bit with RhandlerR . . . Borderlands. .  twitch.tv/niam RhttpR]',\n",
       " '<unk>',\n",
       " '@ITalkFortnite Just bought Borderlands 3 from @EpicGames using your creator code! Can’t wait to use the skin!',\n",
       " \"@ ITalkFortnite Just bought Borderlands 3 from @ EpicGames with your creator code! I can't wait to use the skin!\",\n",
       " '@ Ilennite Just bought Borderlands 3 from @ EpicGames using my creator code!',\n",
       " '@ITalkFortnite Just bought Borderlands 3 from @EpicGames using your creator code! cant wait to see the skin!',\n",
       " '@ITalkFortnite Just bought Borderlands 3 from my @EpicGames using your creator code code! Can ’ on t quite wait to help use the skin!',\n",
       " '@ITalkFortnite actually bought Season 3 from YOU using your creator code! Can’t wait to own the skin!',\n",
       " 'I love u guys',\n",
       " 'I love u guys.',\n",
       " 'I love u guys',\n",
       " 'I love u bro',\n",
       " '21 I love u guys',\n",
       " '<unk> love u guys',\n",
       " 'Borderlands 3 Update Delayed Due To Anti-Racism Protests pic.twitter.com/dDq8WeXJlS',\n",
       " 'Borderlands 3 update delayed due to anti-racism protests pic.twitter.com / dDq8WeXJlS',\n",
       " 'Borderlands 3: Delayed Due To Anti-Racism Protests pic.wikipedia.org / dDq8WeXJlS',\n",
       " 'Borderlands 3 Update Delayed Due To Anti-Racism Protests pic.twitter.com/dDq8WeXJlS',\n",
       " 'Digital Borderlands 3 Update Delayed Due To Anti-Racism Protests pic.twitter.com/dDq8WeXJlS',\n",
       " 'that',\n",
       " '@Borderlands I have some concerns with the new update. On console(Ps4 not sure about other) while playing the gaming audio and visuals start to constantly freeze and break making it hard to continue frame rates drop drastically. Should I be worried.',\n",
       " '@ Borderlands I have some concerns with the new update. On the console (ps4 not sure about others) while playing the gaming audio and visuals start to freeze constantly and break, which makes it difficult to sink the frame rates drastically further. I should be worried.',\n",
       " '@ Borderlands I have some misgivings about the new update. On the console (Ps4 is not sure otherwise) during the game audio and video are constantly hovering and breaking down, making it difficult to continue the sharp drop in frame rate.',\n",
       " '@Borderlands I have some concerns with the new update. On console(Ps4 n sure whats it) while playing the gaming experience and visuals start to constantly freeze and break making it hard to continue frame rates drop drastically. Now I be worried.',\n",
       " '@Borderlands I also have some... concerns with scheduling the new update. On console ( Ps4 in not sure about other ) while playing the gaming audio effects and visuals start to constantly freeze and heads break making it hard to continue and frame rates drop drastically. The Should if I go be worried.',\n",
       " '@Borderlands I have some concerns with the new update. On console(Ps4 not sure about other) while after the gaming software and visuals start to really crash and break with very hard to continue frame rates drop drastically. Should or be worried.',\n",
       " 'Borderlands science is actually really enjoyable',\n",
       " 'Borderland science is really fun',\n",
       " 'Frontier Science Is Really Attractive',\n",
       " 'Borderlands science is actually somewhat enjoyable',\n",
       " 'Borderlands science is actually getting really enjoyable',\n",
       " 'Borderlands science is actually still enjoyable',\n",
       " \"borderlands 3 sucks why are yall giving money to randy pitchford? go borrow the other games from a friend. they're actually good\",\n",
       " 'borderlands 3 sucks why give yall money to randy pitchford? go borrow the other games from a friend. they are actually good',\n",
       " \"borderlands 3 sucks why are yall giving money to random pitchford? go borrow the other games from a friend. they're actually good\",\n",
       " \"borderlands 3 sucks why are yall giving money to randy pitchford? go borrow the other games from a cd. they're actually great\",\n",
       " \"borderlands 3 sucks why are yall boy giving money to that randy pitchford? Just go borrow the same other games from a mutual friend. they're really actually good\",\n",
       " \"borderlands now open or are yall giving money on randy pitchford? go borrow the other games from a friend. they're actually good\",\n",
       " 'I should get up & feed my dogs & such that way when mac gets outta Dnd we can just do a watch together... I wanna play more borderlands but these cramps are bad today',\n",
       " 'I should get up & feed my dogs & stuff when the mac is out and we can just make a watch together... I want to play more Borderlands but these cramps are bad today',\n",
       " 'I have to get up and feed my dogs and so when the poppy gets angry we can just do a watch together... I want to play more in the border areas but these crazy ones today are bad',\n",
       " 'I just get up & feed my dogs & such that s when mac gets outta town we can just do a watch together... I wanna play more borderlands but still cramps are bad today',\n",
       " 'Maybe I should get up & feed off my dogs & such that the way when mac gets up outta Dnd Al we can just do a watch together... I wanna play football more over borderlands but these cramps all are bad today',\n",
       " 'I should get up & feed my dogs & all that way when mac are outta school we can also do some watch together... I wanna go more borderlands but these cramps are bad today',\n",
       " 'this is genuinely all you left me with? @GearboxOfficial @Borderlands pic.twitter.com/X4oKeH4TMH',\n",
       " \"That's really all you left me? @ GearboxOfficial @ Borderlands pic.twitter.com / X4oKeH4TMH\",\n",
       " 'Is that really all you left me? @ GearboxOfficial @ Borderlands pic.fm / X4oKeH4TMH',\n",
       " 'this is genuinely all you left me with? RhandlerR RhandlerR pic.twitter.com/X4oKeH4TMH',\n",
       " 'and this is genuinely all you left me with? RhandlerR RhandlerR pic.twitter.com/X4oKeH4TMH',\n",
       " 'you',\n",
       " 'Holy shit borderlands 3 is ass.',\n",
       " 'Holy shit Borderlands 3 is ass.',\n",
       " 'Holy shit borderlands 3 is ass.',\n",
       " 'Holy shit borderlands 3 st ass.',\n",
       " 'Holy shit borderlands 3 is your ass.',\n",
       " 'Holy shit borderlands 3 my ass.',\n",
       " 'Live with some super interesting *LOL* boss farms in Borderlands 3!. twitch.tv/prismeyes33',\n",
       " 'Live with some super interesting * LOL * boss farms in Borderlands 3!. twitch.tv / prismeyes33',\n",
       " 'Live with some super interesting * LOL * boss farms in Borderlands 3!.',\n",
       " 'Live with some super interesting *LOL* boss farms in Borderlands 3!. twitch.tv/prismeyes33',\n",
       " 'via Live with some super interesting *LOL* boss farms in Borderlands 3!. twitch.tv/prismeyes33',\n",
       " 'as',\n",
       " 'Unpopular opinion: none of those games are good.',\n",
       " 'Unpopular Opinion: None of these games is good.',\n",
       " 'Unpopular view: None of these games is good.',\n",
       " 'Unpopular opinion: none if those games are good.',\n",
       " 'Unpopular opinion : none of perhaps those games itself are good.',\n",
       " 'Unpopular opinion: Neither of those games are good.',\n",
       " '🧨 bURn aLL tHe BAbiES 🧨.  ',\n",
       " 'bURn aLL tHe BAbiES.',\n",
       " 'bURn aALL tHe BiES.',\n",
       " '🧨 It aLL tHe BAbiES 🧨.',\n",
       " '[UNK] bURn is aLL tHe BAbiES... [UNK].',\n",
       " '<unk> bURn Bookmark tHe permalink <unk>.',\n",
       " 'Atleast I have Borderlands to cheer me up :(',\n",
       " 'At least I have Borderlands to cheer me up: (',\n",
       " 'At least I have Border Guards to cheer me on: (',\n",
       " 'Atleast I have Borderlands to match me up :(',\n",
       " 'The Atleast I have Borderlands to come cheer me up : (',\n",
       " 'Atleast I have Borderlands can cheer everything up :(',\n",
       " \"Borderlands 3 trash but also lowkey lit, just big sads it's easy as\",\n",
       " 'Borderlands 3 Trash but also Lowkey illuminated, only big Sads it is easy as',\n",
       " \"Borderlands 3 thrash but also quietly lit, just large gardens it's easy as\",\n",
       " \"Borderlands 3 trash but also lowkey lit, just big and it's easy as\",\n",
       " \"... Borderlands of 3 trash but also real lowkey lit, just big sads it's easy as\",\n",
       " \"Borderlands 3 trash but really lowkey lit, just big and it's easy as\",\n",
       " '@GearboxOfficial Since playing through all of the Borderlands Games with a friend, I really have a taste for something more. I discovered Battleborn, but there is no way to buy it anymore? It looks sooo good and fun, how can I play it?',\n",
       " '@ GearboxOfficial Having played all the Borderlands games with a friend, I really want more. I discovered Battleborn, but there is no way to buy it anymore? It looks sooo good and is fun, how can I play it?',\n",
       " '@ GearboxOfficial Since playing through all of the Borderlands Games with a friend, I really have a taste for something more. I discovered Battleborn, but there is no way to buy it anymore? It looo good and fun, how can I play it?',\n",
       " '@GearboxOfficial Since living through all of the Borderlands movies with a friend, I really have a taste for something more. I discovered Battleborn, meaning there is no money to buy it anymore? It looks sooo exciting and fun, how can I play it?',\n",
       " '@GearboxOfficial Since playing through all of the Borderlands of Games with just a friend, I really have a natural taste... for something more. Remember I discovered Battleborn, but there is no way to buy it stuff anymore? It simply looks sooo good enough and fun, and how can I play it?',\n",
       " '@GearboxOfficial Since playing through most of the Borderlands Games with a friend, am did have a taste for something more. I discovered Battleborn, but there is there way not buy it now? It looks sooo bad and fun, or can I play it?',\n",
       " \"The @jackothyzine is my first piece of fan made Borderlands merch! I'm so excited to see all the beautiful works of all the artists who participated! .  pic.twitter.com/LSmr9SzaTV\",\n",
       " \"The @ jackothyzine is my first fan to do Borderlands merch! I'm so excited to see all the beautiful works of all the participating artists!. pic.twitter.com / LSmr9SzaTV\",\n",
       " \"@ jackothyzine is my first piece of fan made by Borderlands merch! I'm so excited to see all the beautiful work of all the artists involved!. pic.wikipedia.com / LSmr9aTV\",\n",
       " \"The RhandlerR is my first piece of fan made Borderlands merch! I'm so excited to see all the beautiful works of all the artists who participated! .  pic.twitter.com/LSmr9SzaTV\",\n",
       " \"2014 The RhandlerR is my first piece of fan made Borderlands merch! I'm so excited to see all the beautiful works of all the artists who participated! .  pic.twitter.com/LSmr9SzaTV\",\n",
       " 'that',\n",
       " 'If I had to guess why cross-play took so long on  ',\n",
       " 'If I had to guess why cross-play took so long',\n",
       " 'If I had to guess why the cross-game took so long',\n",
       " 'If I had to guess why cross-play took so well on',\n",
       " 'If I had time to guess why cross - play never took so long on',\n",
       " 'If I had second guess why cross-play took so long on',\n",
       " 'Fantastic day today.  Congratulations to @GearboxOfficial @2K and @Borderlands.  Story makes you feel all the emotions, its the best looking DLC by a mile to boot!. . Thank you for letting me join the family!',\n",
       " \"Today is a fantastic day. Congratulations to @ GearboxOfficial @ 2K and @ Borderlands. History makes you feel all the emotions, plus it's the best looking DLC!.. Thank you for letting me join my family!\",\n",
       " 'Congratulations @ GearboxOfficial @ 2K and @ Borderlands.',\n",
       " 'Fantastic day today.  Congratulations to @GearboxOfficial @2K and @Borderlands.  Story makes you feel all the better, its very awesome looking DLC by a mile to boot!.. Thank you for letting me join ur family!',\n",
       " 'Fantastic day today. 11 Congratulations to President @GearboxOfficial both @2K and @Borderlands. Your Story makes you one feel for all the emotions, its the third best looking DLC by a mile miles to go boot!.. Thank you for letting me join the Royal family!',\n",
       " 'Fantastic review today. Congratulations to brothers Jason and @GearboxOfficial. Story way you feel all the emotions, its the best looking thing by a mile of boot!.. great you guys letting me join the family!',\n",
       " 'Sky Rocket > SuperBadass Caustic Goliath. Borderlands 2  ',\n",
       " 'Sky Rocket > SuperBadass Caustic Goliath. Borderlands 2',\n",
       " 'Skye Rose > SuperBadass Caucasian Goliath. Boundary Lands 2',\n",
       " 'Sky Wolves > SuperBadass Caustic Goliath. Borderlands 2',\n",
       " 'Sky Rocket > a SuperBadass or Caustic for Goliath. Borderlands 2',\n",
       " 'Sky Lines > SuperBadass And Goliath. Borderlands 2',\n",
       " 'Chris loves me in borderlands one and two.',\n",
       " 'Chris loves me in Borderlands one and two.',\n",
       " 'Chris loves me on the edge of one and two.',\n",
       " 'Chris loves me in borderlands one or two.',\n",
       " 'Chris almost loves me in borderlands one dozen and two.',\n",
       " 'Chris got me in borderlands one and two.',\n",
       " 'Y’all stick with Mario Kart and Borderlands. Some shit where you don’t have to compete against someone else. Those are the main motherfuckers hating on me. People who play GTA or The Last Of Us.',\n",
       " \"Y'all stay with Mario Kart and Borderlands. Some shit where you don't have to compete against someone else. Those are the main motherfuckers who hate me. People who play GTA or The Last Of Us.\",\n",
       " \"Y'all stick with Mario Kart and Borderlands. Some shit where you do not have to compete against someone else. Those are the main motherfuckers hatting on me. People who play GTA or The Last Of Us.\",\n",
       " 'Y’all stick with Sky Kart and Borderlands. Some shit where you don’t have to compete against someone blind. There are the main motherfuckers hating on me. People that play GTA or The Last Of Us.',\n",
       " 'Some Y ’ all just stick with a Mario Kart and Borderlands. Some shit where you don ’ t have to compete against someone else. Those are the two main motherfuckers off hating and on watching me. People who just play GTA or The Last Two Of Us.',\n",
       " 'Y’all stick with Mario Kart and Borderlands. Play shit where you only have or compete off someone else. Those are the main motherfuckers hating on games. People really hate GTA or The Last Of Us.',\n",
       " 'HOW HAS IT BEEN A WHOLE YEAR?. Last year I had the legit pleasure of working with @2K_ANZ (and the don @Pez_Bro) on this custom @Borderlands themed @PlayStationAU 4.. . Oh what a time. Would love to work with the brand again for sureee! Still one of my favourite jobs.. . @poscauk pic.twitter.com/lN9snb7jSn',\n",
       " 'HOW HAPPENED IT ALL YEAR?. Last year I had the legitimate pleasure of working with @ 2K _ ANZ (and the don @ Pez _ Bro) on this custom @ Borderlands themed @ PlayStationAU 4... Oh what a time. Would love to work with the brand again to make sure! Still one of my favorite jobs... @ poscauk pic.twitter.com / lN9snb7jSn',\n",
       " 'Last year I had the legitimate pleasure of working with @ 2K _ ANZ (and don @ Pez _ Bro) on this custom @ Borderlands theme @ PlayStationAU 4... Oh what a time.',\n",
       " 'HOW HAS IT BEEN A WHOLE YEAR?. Last year I had the legit pleasure of working with RhandlerR (and the don RhandlerR on this custom RhandlerR themed RhandlerR 4.. . Oh what a time. Would love to work with the brand again for sureee! Still one of my favourite jobs.. . RhandlerR pic.twitter.com/lN9snb7jSn',\n",
       " 'N HOW HAS IT BEEN A WHOLE YEAR?. Last year I had the legit pleasure of working with RhandlerR (and the don RhandlerR on this custom RhandlerR themed RhandlerR 4.. . Oh what a time. Would love to work with the brand again for sureee! Still one of my favourite jobs.. . RhandlerR pic.twitter.com/lN9snb7jSn',\n",
       " 'The',\n",
       " \"Mayhem and Murder Aplenty! It's time for a  . . twitch.tv/bencompetence\",\n",
       " \"Chaos and murder galore! It's time for a.. twitch.tv / bencompetence\",\n",
       " \"Mayhem and the Murder of Apollo! It's time for... tch.tv / benefiction\",\n",
       " \"Mayhem and Murder Aplenty! It's time for a  . . twitch.tv/bencompetence\",\n",
       " \"as Mayhem and Murder Aplenty! It's time for a  . . twitch.tv/bencompetence\",\n",
       " 'was',\n",
       " 'AGAIN @Borderlands WTF   ',\n",
       " 'AGAIN @ Borderlands WTF',\n",
       " 'AGAIN @ Borderlands WTF',\n",
       " 'AGAIN @Borderlands<unk>',\n",
       " 'AGAIN 2 @Borderlands WTF',\n",
       " 'AGAIN AND WTF',\n",
       " 'This cricket has been the worst hivemind of fandom I have done this more times than I would love to be better if the Tarzan level in Kingdom Hearts is as bad as Borderlands.',\n",
       " \"This cricket was the worst hive of fandom I've done more times than I'd like to if the Tarzan level in Kingdom Hearts was as bad as Borderlands.\",\n",
       " \"That cricket was the worst fennel fennel I've done more times than I'd like if Tarzan's level in the Kingdom of Hearts was as bad as Borderlands's.\",\n",
       " 'This cricket has been the worst hivemind of fandom I have said this more times than I would love to be counting if the Tarzan level in Kingdom Hearts is as strong as Borderlands.',\n",
       " 'This cricket has been dubbed the worst single hivemind of game fandom I have certainly done this more times more than I or would love to be better if the Tarzan level in Kingdom Hearts is as bad there as Borderlands.',\n",
       " 'This cricket already been the worst hivemind for fandom who have done this more times than I would love to be better if the Tarzan level in Eight Hearts is as bad with mine.',\n",
       " 'Borderlands 3 is quite fun  ',\n",
       " 'Borderlands 3 is really fun',\n",
       " 'Borderlands 3 is pretty funny',\n",
       " 'Borderlands 3 is quite different',\n",
       " 'Borderlands 3 is actually quite fun',\n",
       " 'Borderlands stuff is quite fun',\n",
       " 'Making games is a brutally difficult business. Without the team, you have nothing. Our industry is already brutally underpaid for what we do VS others. This is shameful.',\n",
       " \"Making games is a brutally difficult business. Without the team you have nothing. Our industry is already brutally underpaid for what we do against others. That's shameful.\",\n",
       " 'Making games is a very difficult business. You have nothing without a team. Our industry is already underpaying for what we do to others.',\n",
       " 'Making games is a brutally difficult business. Without the team, they have nothing. In industry are already brutally underpaid for what we do VS others. This is shameful.',\n",
       " 'Making games is a brutally difficult family business. Without the team, you have done nothing. Our industry itself is already very brutally badly underpaid for what little we do when VS others. This is shameful.',\n",
       " 'Making games is a particularly difficult business. Without the original, you have nothing. Our industry seems already brutally underpaid for what we do around Nintendo. This is shameful.',\n",
       " 'Sweet',\n",
       " 'Sweet',\n",
       " 'The Sweat',\n",
       " 'Sweet',\n",
       " 'For Sweet',\n",
       " 'of',\n",
       " \"Who's down for some @Borderlands on  \",\n",
       " \"Who's on for some @ Borderlands\",\n",
       " \"Who's at @ Borderlands\",\n",
       " \"Who's down with some @Borderlands on\",\n",
       " \"Who't s someone down for some @Borderlands on\",\n",
       " \"Who's down for the @Borderlands on\",\n",
       " \"@EpicGames @2K @Steam why add crossplay for @Borderlands 3 if you weren't gonna make it compatible for console? What a waste\",\n",
       " \"@ EpicGames @ 2K @ Steam, why add Crossplay for @ Borderlands 3 if you wouldn't make it compatible with the console? What a waste!\",\n",
       " ...]"
      ]
     },
     "execution_count": 41,
     "metadata": {},
     "output_type": "execute_result"
    }
   ],
   "source": [
    "dataset[\"Tweet_content\"]"
   ]
  },
  {
   "cell_type": "code",
   "execution_count": 42,
   "id": "925d9d5c",
   "metadata": {},
   "outputs": [
    {
     "name": "stderr",
     "output_type": "stream",
     "text": [
      "All model checkpoint layers were used when initializing TFRobertaForSequenceClassification.\n",
      "\n",
      "All the layers of TFRobertaForSequenceClassification were initialized from the model checkpoint at siebert/sentiment-roberta-large-english.\n",
      "If your task is similar to the task the model of the checkpoint was trained on, you can already use TFRobertaForSequenceClassification for predictions without further training.\n"
     ]
    }
   ],
   "source": [
    "classifier1 = pipeline(\"sentiment-analysis\",\n",
    "                         model=\"siebert/sentiment-roberta-large-english\"\n",
    "                        )"
   ]
  },
  {
   "cell_type": "code",
   "execution_count": 43,
   "id": "0b3edc3c",
   "metadata": {},
   "outputs": [
    {
     "data": {
      "text/plain": [
       "[{'label': 'NEGATIVE', 'score': 0.9941444993019104},\n",
       " {'label': 'NEGATIVE', 'score': 0.9909069538116455},\n",
       " {'label': 'NEGATIVE', 'score': 0.9928162097930908},\n",
       " {'label': 'NEGATIVE', 'score': 0.9927037954330444},\n",
       " {'label': 'NEGATIVE', 'score': 0.9919548630714417}]"
      ]
     },
     "execution_count": 43,
     "metadata": {},
     "output_type": "execute_result"
    }
   ],
   "source": [
    "classifier1(dataset[\"Tweet_content\"][:5])"
   ]
  },
  {
   "cell_type": "code",
   "execution_count": 44,
   "id": "0c185aaa",
   "metadata": {},
   "outputs": [
    {
     "name": "stderr",
     "output_type": "stream",
     "text": [
      "No model was supplied, defaulted to distilbert-base-cased-distilled-squad and revision 626af31 (https://huggingface.co/distilbert-base-cased-distilled-squad).\n",
      "Using a pipeline without specifying a model name and revision in production is not recommended.\n"
     ]
    },
    {
     "data": {
      "application/vnd.jupyter.widget-view+json": {
       "model_id": "9d968c7156694e56b9142752f1effad8",
       "version_major": 2,
       "version_minor": 0
      },
      "text/plain": [
       "Downloading:   0%|          | 0.00/473 [00:00<?, ?B/s]"
      ]
     },
     "metadata": {},
     "output_type": "display_data"
    },
    {
     "name": "stderr",
     "output_type": "stream",
     "text": [
      "C:\\ProgramData\\Anaconda3\\lib\\site-packages\\huggingface_hub\\file_download.py:127: UserWarning: `huggingface_hub` cache-system uses symlinks by default to efficiently store duplicated files but your machine does not support them in C:\\Users\\Kartik\\.cache\\huggingface\\hub. Caching files will still work but in a degraded version that might require more space on your disk. This warning can be disabled by setting the `HF_HUB_DISABLE_SYMLINKS_WARNING` environment variable. For more details, see https://huggingface.co/docs/huggingface_hub/how-to-cache#limitations.\n",
      "To support symlinks on Windows, you either need to activate Developer Mode or to run Python as an administrator. In order to see activate developer mode, see this article: https://docs.microsoft.com/en-us/windows/apps/get-started/enable-your-device-for-development\n",
      "  warnings.warn(message)\n"
     ]
    },
    {
     "data": {
      "application/vnd.jupyter.widget-view+json": {
       "model_id": "ed0e1458a0a04be7a6ec17fa0a852da4",
       "version_major": 2,
       "version_minor": 0
      },
      "text/plain": [
       "Downloading:   0%|          | 0.00/261M [00:00<?, ?B/s]"
      ]
     },
     "metadata": {},
     "output_type": "display_data"
    },
    {
     "name": "stderr",
     "output_type": "stream",
     "text": [
      "Some layers from the model checkpoint at distilbert-base-cased-distilled-squad were not used when initializing TFDistilBertForQuestionAnswering: ['dropout_19']\n",
      "- This IS expected if you are initializing TFDistilBertForQuestionAnswering from the checkpoint of a model trained on another task or with another architecture (e.g. initializing a BertForSequenceClassification model from a BertForPreTraining model).\n",
      "- This IS NOT expected if you are initializing TFDistilBertForQuestionAnswering from the checkpoint of a model that you expect to be exactly identical (initializing a BertForSequenceClassification model from a BertForSequenceClassification model).\n",
      "Some layers of TFDistilBertForQuestionAnswering were not initialized from the model checkpoint at distilbert-base-cased-distilled-squad and are newly initialized: ['dropout_96']\n",
      "You should probably TRAIN this model on a down-stream task to be able to use it for predictions and inference.\n"
     ]
    },
    {
     "data": {
      "application/vnd.jupyter.widget-view+json": {
       "model_id": "92076042232e40d69244e888d9f00122",
       "version_major": 2,
       "version_minor": 0
      },
      "text/plain": [
       "Downloading:   0%|          | 0.00/29.0 [00:00<?, ?B/s]"
      ]
     },
     "metadata": {},
     "output_type": "display_data"
    },
    {
     "data": {
      "application/vnd.jupyter.widget-view+json": {
       "model_id": "fc2052b4387f47e2b40b800b14d08fa5",
       "version_major": 2,
       "version_minor": 0
      },
      "text/plain": [
       "Downloading:   0%|          | 0.00/213k [00:00<?, ?B/s]"
      ]
     },
     "metadata": {},
     "output_type": "display_data"
    },
    {
     "data": {
      "application/vnd.jupyter.widget-view+json": {
       "model_id": "bde8628c591743979463ecf7b524359a",
       "version_major": 2,
       "version_minor": 0
      },
      "text/plain": [
       "Downloading:   0%|          | 0.00/436k [00:00<?, ?B/s]"
      ]
     },
     "metadata": {},
     "output_type": "display_data"
    }
   ],
   "source": [
    "summarizer = pipeline(\"summarization\")"
   ]
  },
  {
   "cell_type": "code",
   "execution_count": 45,
   "id": "04261209",
   "metadata": {},
   "outputs": [
    {
     "name": "stderr",
     "output_type": "stream",
     "text": [
      "No model was supplied, defaulted to t5-small and revision d769bba (https://huggingface.co/t5-small).\n",
      "Using a pipeline without specifying a model name and revision in production is not recommended.\n"
     ]
    },
    {
     "data": {
      "application/vnd.jupyter.widget-view+json": {
       "model_id": "5b7fe5925d6542baad39691894e1c8e6",
       "version_major": 2,
       "version_minor": 0
      },
      "text/plain": [
       "Downloading:   0%|          | 0.00/1.21k [00:00<?, ?B/s]"
      ]
     },
     "metadata": {},
     "output_type": "display_data"
    },
    {
     "data": {
      "application/vnd.jupyter.widget-view+json": {
       "model_id": "cacb9dad9e314fa8ac67962b0a7a3377",
       "version_major": 2,
       "version_minor": 0
      },
      "text/plain": [
       "Downloading:   0%|          | 0.00/242M [00:00<?, ?B/s]"
      ]
     },
     "metadata": {},
     "output_type": "display_data"
    },
    {
     "name": "stderr",
     "output_type": "stream",
     "text": [
      "All model checkpoint layers were used when initializing TFT5ForConditionalGeneration.\n",
      "\n",
      "All the layers of TFT5ForConditionalGeneration were initialized from the model checkpoint at t5-small.\n",
      "If your task is similar to the task the model of the checkpoint was trained on, you can already use TFT5ForConditionalGeneration for predictions without further training.\n"
     ]
    },
    {
     "data": {
      "application/vnd.jupyter.widget-view+json": {
       "model_id": "61f0d04441d84c8b86258be5c9eb43ed",
       "version_major": 2,
       "version_minor": 0
      },
      "text/plain": [
       "Downloading:   0%|          | 0.00/792k [00:00<?, ?B/s]"
      ]
     },
     "metadata": {},
     "output_type": "display_data"
    },
    {
     "data": {
      "application/vnd.jupyter.widget-view+json": {
       "model_id": "677c00f959b14d7ca60479b31171f14d",
       "version_major": 2,
       "version_minor": 0
      },
      "text/plain": [
       "Downloading:   0%|          | 0.00/1.39M [00:00<?, ?B/s]"
      ]
     },
     "metadata": {},
     "output_type": "display_data"
    },
    {
     "name": "stderr",
     "output_type": "stream",
     "text": [
      "C:\\ProgramData\\Anaconda3\\lib\\site-packages\\transformers\\models\\t5\\tokenization_t5_fast.py:155: FutureWarning: This tokenizer was incorrectly instantiated with a model max length of 512 which will be corrected in Transformers v5.\n",
      "For now, this behavior is kept to avoid breaking backwards compatibility when padding/encoding with `truncation is True`.\n",
      "- Be aware that you SHOULD NOT rely on t5-small automatically truncating your input to 512 when padding/encoding.\n",
      "- If you want to encode/pad to sequences longer than 512 you can either instantiate this tokenizer with `model_max_length` or pass `max_length` when encoding/padding.\n",
      "- To avoid this warning, please instantiate this tokenizer with `model_max_length` set to your preferred value.\n",
      "  warnings.warn(\n"
     ]
    }
   ],
   "source": [
    "summarizer = pipeline(\"summarization\")"
   ]
  },
  {
   "cell_type": "code",
   "execution_count": 48,
   "id": "36c4751d",
   "metadata": {},
   "outputs": [
    {
     "name": "stderr",
     "output_type": "stream",
     "text": [
      "Your max_length is set to 50, but you input_length is only 17. You might consider decreasing max_length manually, e.g. summarizer('...', max_length=8)\n",
      "Your max_length is set to 50, but you input_length is only 16. You might consider decreasing max_length manually, e.g. summarizer('...', max_length=8)\n",
      "Your max_length is set to 50, but you input_length is only 16. You might consider decreasing max_length manually, e.g. summarizer('...', max_length=8)\n",
      "Your max_length is set to 50, but you input_length is only 16. You might consider decreasing max_length manually, e.g. summarizer('...', max_length=8)\n",
      "Your max_length is set to 50, but you input_length is only 18. You might consider decreasing max_length manually, e.g. summarizer('...', max_length=9)\n"
     ]
    },
    {
     "data": {
      "text/plain": [
       "[{'summary_text': \"im getting on borderlands and i will murder you all . i'm getting on the border and will kill you all, i want to kill you .\"},\n",
       " {'summary_text': \"i am coming to the borders and I will kill you all . i'll kill you, and i will kill all you, i hope .\"},\n",
       " {'summary_text': \"im getting on borderlands and i will kill you all, i am getting on the border . i'm getting on . borderlands, but i want to kill you .\"},\n",
       " {'summary_text': \"im coming on borderlands and i will murder you all, i'm coming on . borderlands is a border land and borderlands borderlands . i want to kill you all .\"},\n",
       " {'summary_text': \"im getting on borderlands 2 and i will murder you me all . i'm gonna murder you all, i am getting on the border . borderlands .\"}]"
      ]
     },
     "execution_count": 48,
     "metadata": {},
     "output_type": "execute_result"
    }
   ],
   "source": [
    "summarizer(dataset[\"Tweet_content\"][:5],max_length=50)"
   ]
  },
  {
   "cell_type": "code",
   "execution_count": 49,
   "id": "b2642f8b",
   "metadata": {},
   "outputs": [
    {
     "data": {
      "application/vnd.jupyter.widget-view+json": {
       "model_id": "bf8a0e278c104d66b55e9202af06b95a",
       "version_major": 2,
       "version_minor": 0
      },
      "text/plain": [
       "Downloading:   0%|          | 0.00/665 [00:00<?, ?B/s]"
      ]
     },
     "metadata": {},
     "output_type": "display_data"
    },
    {
     "data": {
      "application/vnd.jupyter.widget-view+json": {
       "model_id": "2d2daac6e32246c08a714a426a7efb29",
       "version_major": 2,
       "version_minor": 0
      },
      "text/plain": [
       "Downloading:   0%|          | 0.00/498M [00:00<?, ?B/s]"
      ]
     },
     "metadata": {},
     "output_type": "display_data"
    },
    {
     "name": "stderr",
     "output_type": "stream",
     "text": [
      "All model checkpoint layers were used when initializing TFGPT2LMHeadModel.\n",
      "\n",
      "All the layers of TFGPT2LMHeadModel were initialized from the model checkpoint at gpt2.\n",
      "If your task is similar to the task the model of the checkpoint was trained on, you can already use TFGPT2LMHeadModel for predictions without further training.\n"
     ]
    },
    {
     "data": {
      "application/vnd.jupyter.widget-view+json": {
       "model_id": "26ab94849cd04f64a95a965da1f2e5a8",
       "version_major": 2,
       "version_minor": 0
      },
      "text/plain": [
       "Downloading:   0%|          | 0.00/1.04M [00:00<?, ?B/s]"
      ]
     },
     "metadata": {},
     "output_type": "display_data"
    },
    {
     "data": {
      "application/vnd.jupyter.widget-view+json": {
       "model_id": "6b96aed54ebc4f98ac2446ccb80f539a",
       "version_major": 2,
       "version_minor": 0
      },
      "text/plain": [
       "Downloading:   0%|          | 0.00/456k [00:00<?, ?B/s]"
      ]
     },
     "metadata": {},
     "output_type": "display_data"
    },
    {
     "data": {
      "application/vnd.jupyter.widget-view+json": {
       "model_id": "2db138071f33449593d2590dd7e590c9",
       "version_major": 2,
       "version_minor": 0
      },
      "text/plain": [
       "Downloading:   0%|          | 0.00/1.36M [00:00<?, ?B/s]"
      ]
     },
     "metadata": {},
     "output_type": "display_data"
    }
   ],
   "source": [
    "generator = pipeline('text-generation', model = 'gpt2')"
   ]
  },
  {
   "cell_type": "code",
   "execution_count": 50,
   "id": "a01533c7",
   "metadata": {},
   "outputs": [
    {
     "name": "stderr",
     "output_type": "stream",
     "text": [
      "Setting `pad_token_id` to 50256 (first `eos_token_id`) to generate sequence\n",
      "Setting `pad_token_id` to 50256 (first `eos_token_id`) to generate sequence\n",
      "Setting `pad_token_id` to 50256 (first `eos_token_id`) to generate sequence\n",
      "Setting `pad_token_id` to 50256 (first `eos_token_id`) to generate sequence\n",
      "Setting `pad_token_id` to 50256 (first `eos_token_id`) to generate sequence\n"
     ]
    },
    {
     "data": {
      "text/plain": [
       "[[{'generated_text': 'im getting on borderlands and i will murder you all , you wont be able to stop me unless i get the fucking wager you all will kill'},\n",
       "  {'generated_text': 'im getting on borderlands and i will murder you all , even if you dont know who they belong to. Your ass wasnt built to die in'},\n",
       "  {'generated_text': 'im getting on borderlands and i will murder you all ,and so on that shit is fucking fucked up and i am just really disgusted that people thought'}],\n",
       " [{'generated_text': \"I am coming to the borders and I will kill you all, and I have a job to do. If you want to die, I'm here\"},\n",
       "  {'generated_text': 'I am coming to the borders and I will kill you all,\\n\\nbut at the bottom of the barrel, I will never leave.\\n\\n\\n'},\n",
       "  {'generated_text': 'I am coming to the borders and I will kill you all, but if my son pleases the Lord Almighty he will surely choose a nation of his'}],\n",
       " [{'generated_text': 'im getting on borderlands and i will kill you all, so do not fight me with my hand on it, i will keep on killing me.'},\n",
       "  {'generated_text': 'im getting on borderlands and i will kill you all, we will leave the map at the start of the game. the more you say you leave'},\n",
       "  {'generated_text': \"im getting on borderlands and i will kill you all, but you are going to die anyways, dont die on 2 gate if you can't afford\"}],\n",
       " [{'generated_text': 'im coming on borderlands and i will murder you all, i will show you the way\", \"No need to know where but on your destination so'},\n",
       "  {'generated_text': \"im coming on borderlands and i will murder you all, so dont say, like you didnt say. But it was obvious. I don't think\"},\n",
       "  {'generated_text': 'im coming on borderlands and i will murder you all, i am not happy.\\n\\n#Gumshad - P.F.A'}],\n",
       " [{'generated_text': \"im getting on borderlands 2 and i will murder you me all, I have no right because you don't even like the war but this is war\"},\n",
       "  {'generated_text': 'im getting on borderlands 2 and i will murder you me all, so kill all your guys, even a little one you can beat me so i'},\n",
       "  {'generated_text': \"im getting on borderlands 2 and i will murder you me all, i'm here to stop this shit from happening anymore 1 hour ago https://www\"}]]"
      ]
     },
     "execution_count": 50,
     "metadata": {},
     "output_type": "execute_result"
    }
   ],
   "source": [
    "generator(dataset[\"Tweet_content\"][:5], max_length = 30, num_return_sequences=3)\n"
   ]
  },
  {
   "cell_type": "code",
   "execution_count": null,
   "id": "53dc42d2",
   "metadata": {},
   "outputs": [],
   "source": []
  }
 ],
 "metadata": {
  "kernelspec": {
   "display_name": "Python 3",
   "language": "python",
   "name": "python3"
  },
  "language_info": {
   "codemirror_mode": {
    "name": "ipython",
    "version": 3
   },
   "file_extension": ".py",
   "mimetype": "text/x-python",
   "name": "python",
   "nbconvert_exporter": "python",
   "pygments_lexer": "ipython3",
   "version": "3.8.8"
  }
 },
 "nbformat": 4,
 "nbformat_minor": 5
}
